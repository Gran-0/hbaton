{
 "cells": [
  {
   "cell_type": "code",
   "execution_count": 74,
   "id": "61hf7aGKrHPo",
   "metadata": {
    "colab": {
     "base_uri": "https://localhost:8080/"
    },
    "id": "61hf7aGKrHPo",
    "outputId": "be989168-0385-495a-a068-4d4df3696977"
   },
   "outputs": [
    {
     "name": "stdout",
     "output_type": "stream",
     "text": [
      "Requirement already satisfied: feature_engine in c:\\users\\roland.pecson\\appdata\\local\\programs\\python\\python311\\lib\\site-packages (1.6.2)\n",
      "Requirement already satisfied: numpy>=1.18.2 in c:\\users\\roland.pecson\\appdata\\local\\programs\\python\\python311\\lib\\site-packages (from feature_engine) (1.25.2)\n",
      "Requirement already satisfied: pandas>=1.0.3 in c:\\users\\roland.pecson\\appdata\\local\\programs\\python\\python311\\lib\\site-packages (from feature_engine) (2.0.3)\n",
      "Requirement already satisfied: scikit-learn>=1.0.0 in c:\\users\\roland.pecson\\appdata\\local\\programs\\python\\python311\\lib\\site-packages (from feature_engine) (1.3.0)\n",
      "Requirement already satisfied: scipy>=1.4.1 in c:\\users\\roland.pecson\\appdata\\local\\programs\\python\\python311\\lib\\site-packages (from feature_engine) (1.11.2)\n",
      "Requirement already satisfied: statsmodels>=0.11.1 in c:\\users\\roland.pecson\\appdata\\local\\programs\\python\\python311\\lib\\site-packages (from feature_engine) (0.14.0)\n",
      "Requirement already satisfied: python-dateutil>=2.8.2 in c:\\users\\roland.pecson\\appdata\\roaming\\python\\python311\\site-packages (from pandas>=1.0.3->feature_engine) (2.8.2)\n",
      "Requirement already satisfied: pytz>=2020.1 in c:\\users\\roland.pecson\\appdata\\local\\programs\\python\\python311\\lib\\site-packages (from pandas>=1.0.3->feature_engine) (2023.3)\n",
      "Requirement already satisfied: tzdata>=2022.1 in c:\\users\\roland.pecson\\appdata\\local\\programs\\python\\python311\\lib\\site-packages (from pandas>=1.0.3->feature_engine) (2023.3)\n",
      "Requirement already satisfied: joblib>=1.1.1 in c:\\users\\roland.pecson\\appdata\\local\\programs\\python\\python311\\lib\\site-packages (from scikit-learn>=1.0.0->feature_engine) (1.3.2)\n",
      "Requirement already satisfied: threadpoolctl>=2.0.0 in c:\\users\\roland.pecson\\appdata\\local\\programs\\python\\python311\\lib\\site-packages (from scikit-learn>=1.0.0->feature_engine) (3.2.0)\n",
      "Requirement already satisfied: patsy>=0.5.2 in c:\\users\\roland.pecson\\appdata\\local\\programs\\python\\python311\\lib\\site-packages (from statsmodels>=0.11.1->feature_engine) (0.5.3)\n",
      "Requirement already satisfied: packaging>=21.3 in c:\\users\\roland.pecson\\appdata\\roaming\\python\\python311\\site-packages (from statsmodels>=0.11.1->feature_engine) (22.0)\n",
      "Requirement already satisfied: six in c:\\users\\roland.pecson\\appdata\\roaming\\python\\python311\\site-packages (from patsy>=0.5.2->statsmodels>=0.11.1->feature_engine) (1.16.0)\n"
     ]
    }
   ],
   "source": [
    "!pip install feature_engine"
   ]
  },
  {
   "cell_type": "code",
   "execution_count": 75,
   "id": "f29f516e",
   "metadata": {
    "id": "f29f516e"
   },
   "outputs": [],
   "source": [
    "import pandas as pd\n",
    "import numpy as np\n",
    "import matplotlib.pyplot as plt\n",
    "import seaborn as sns\n",
    "\n",
    "from scipy import stats\n",
    "from sklearn.preprocessing import StandardScaler\n",
    "from sklearn.manifold import TSNE\n",
    "from sklearn.cluster import KMeans\n",
    "\n",
    "import plotly.offline as pyoff\n",
    "import plotly.graph_objs as go\n",
    "\n",
    "import datetime as dt\n",
    "\n",
    "import subprocess\n",
    "import sys\n",
    "import os\n",
    "# !{sys.executable} -m pip install feature_engine\n",
    "# !{sys.executable} -m pip install kneed\n",
    "# !{sys.executable} -m pip install wordcloud\n",
    "import feature_engine\n",
    "\n",
    "from feature_engine.outliers import Winsorizer\n",
    "\n",
    "import warnings\n",
    "warnings.filterwarnings(\"ignore\")\n",
    "\n",
    "from yellowbrick.cluster import SilhouetteVisualizer\n",
    "\n",
    "from wordcloud import WordCloud"
   ]
  },
  {
   "cell_type": "code",
   "execution_count": 76,
   "id": "c6474ad5",
   "metadata": {
    "id": "c6474ad5"
   },
   "outputs": [],
   "source": [
    "from matplotlib.font_manager import FontProperties\n",
    "montserrat_font = FontProperties(fname=\"Montserrat-Regular.ttf\")\n",
    "nunito_font = FontProperties(fname=\"NunitoSans_10pt-Regular.ttf\")\n",
    "dream_font = FontProperties(fname=\"dreamorp.ttf\")"
   ]
  },
  {
   "cell_type": "code",
   "execution_count": 77,
   "id": "73f9cc3e",
   "metadata": {
    "colab": {
     "base_uri": "https://localhost:8080/",
     "height": 321
    },
    "id": "73f9cc3e",
    "outputId": "c13640f5-778a-401a-d2da-52d5282ee5dc"
   },
   "outputs": [],
   "source": [
    "df = pd.read_csv(\"cc_dirty.csv\")"
   ]
  },
  {
   "cell_type": "code",
   "execution_count": 78,
   "id": "cc0f3a32",
   "metadata": {
    "id": "cc0f3a32"
   },
   "outputs": [
    {
     "data": {
      "text/html": [
       "<div>\n",
       "<style scoped>\n",
       "    .dataframe tbody tr th:only-of-type {\n",
       "        vertical-align: middle;\n",
       "    }\n",
       "\n",
       "    .dataframe tbody tr th {\n",
       "        vertical-align: top;\n",
       "    }\n",
       "\n",
       "    .dataframe thead th {\n",
       "        text-align: right;\n",
       "    }\n",
       "</style>\n",
       "<table border=\"1\" class=\"dataframe\">\n",
       "  <thead>\n",
       "    <tr style=\"text-align: right;\">\n",
       "      <th></th>\n",
       "      <th>cc_num</th>\n",
       "      <th>gender</th>\n",
       "      <th>city</th>\n",
       "      <th>city_pop</th>\n",
       "      <th>job</th>\n",
       "      <th>dob</th>\n",
       "      <th>acct_num</th>\n",
       "      <th>acct_num2</th>\n",
       "      <th>trans_num</th>\n",
       "      <th>unix_time</th>\n",
       "      <th>category</th>\n",
       "      <th>amt</th>\n",
       "    </tr>\n",
       "  </thead>\n",
       "  <tbody>\n",
       "    <tr>\n",
       "      <th>0</th>\n",
       "      <td>6.760000e+11</td>\n",
       "      <td>M</td>\n",
       "      <td>Dasmarinas</td>\n",
       "      <td>659,019 people</td>\n",
       "      <td>Chartered loss adjuster</td>\n",
       "      <td>12/12/1958</td>\n",
       "      <td>798000000000</td>\n",
       "      <td>798000000000</td>\n",
       "      <td>a72eaa86b043eed95b25bbb25b3153a1</td>\n",
       "      <td>1581314011</td>\n",
       "      <td>shopping_net</td>\n",
       "      <td>$68.88</td>\n",
       "    </tr>\n",
       "    <tr>\n",
       "      <th>1</th>\n",
       "      <td>3.520000e+15</td>\n",
       "      <td>M</td>\n",
       "      <td>Digos</td>\n",
       "      <td>169,393 people</td>\n",
       "      <td>Administrator, charities/voluntary organisations</td>\n",
       "      <td>31/08/1970</td>\n",
       "      <td>968000000000</td>\n",
       "      <td>968000000000</td>\n",
       "      <td>060d12f91c13871a13963041736a4702</td>\n",
       "      <td>1590902968</td>\n",
       "      <td>entertainment</td>\n",
       "      <td>$50.06</td>\n",
       "    </tr>\n",
       "    <tr>\n",
       "      <th>2</th>\n",
       "      <td>4.140000e+18</td>\n",
       "      <td>Male</td>\n",
       "      <td>Calapan</td>\n",
       "      <td>133,893 people</td>\n",
       "      <td>Financial controller</td>\n",
       "      <td>23/07/1953</td>\n",
       "      <td>628000000000</td>\n",
       "      <td>628000000000</td>\n",
       "      <td>18aafb6098ab0923886c0ac83592ef8d</td>\n",
       "      <td>1585461157</td>\n",
       "      <td>food_dining</td>\n",
       "      <td>$105.44</td>\n",
       "    </tr>\n",
       "    <tr>\n",
       "      <th>3</th>\n",
       "      <td>4.870000e+15</td>\n",
       "      <td>M</td>\n",
       "      <td>San Fernando</td>\n",
       "      <td>121,812 people</td>\n",
       "      <td>NaN</td>\n",
       "      <td>18/07/1964</td>\n",
       "      <td>863000000000</td>\n",
       "      <td>863000000000</td>\n",
       "      <td>45bbe714e51ab8a375454d39a190b0cb</td>\n",
       "      <td>1613063704</td>\n",
       "      <td>food_dining</td>\n",
       "      <td>$38.61</td>\n",
       "    </tr>\n",
       "    <tr>\n",
       "      <th>4</th>\n",
       "      <td>4.720000e+15</td>\n",
       "      <td>M</td>\n",
       "      <td>Laoag</td>\n",
       "      <td>111,125 people</td>\n",
       "      <td>Dance movement psychotherapist</td>\n",
       "      <td>11/01/1954</td>\n",
       "      <td>257000000000</td>\n",
       "      <td>257000000000</td>\n",
       "      <td>c20ee88b451f637bc6893b7460e9fee0</td>\n",
       "      <td>1601282159</td>\n",
       "      <td>gas_transport</td>\n",
       "      <td>$82.69</td>\n",
       "    </tr>\n",
       "  </tbody>\n",
       "</table>\n",
       "</div>"
      ],
      "text/plain": [
       "         cc_num gender          city        city_pop  \\\n",
       "0  6.760000e+11      M    Dasmarinas  659,019 people   \n",
       "1  3.520000e+15      M         Digos  169,393 people   \n",
       "2  4.140000e+18   Male       Calapan  133,893 people   \n",
       "3  4.870000e+15      M  San Fernando  121,812 people   \n",
       "4  4.720000e+15      M         Laoag  111,125 people   \n",
       "\n",
       "                                                job         dob      acct_num  \\\n",
       "0                           Chartered loss adjuster  12/12/1958  798000000000   \n",
       "1  Administrator, charities/voluntary organisations  31/08/1970  968000000000   \n",
       "2                              Financial controller  23/07/1953  628000000000   \n",
       "3                                               NaN  18/07/1964  863000000000   \n",
       "4                    Dance movement psychotherapist  11/01/1954  257000000000   \n",
       "\n",
       "      acct_num2                         trans_num   unix_time       category  \\\n",
       "0  798000000000  a72eaa86b043eed95b25bbb25b3153a1  1581314011   shopping_net   \n",
       "1  968000000000  060d12f91c13871a13963041736a4702  1590902968  entertainment   \n",
       "2  628000000000  18aafb6098ab0923886c0ac83592ef8d  1585461157    food_dining   \n",
       "3  863000000000  45bbe714e51ab8a375454d39a190b0cb  1613063704    food_dining   \n",
       "4  257000000000  c20ee88b451f637bc6893b7460e9fee0  1601282159  gas_transport   \n",
       "\n",
       "       amt  \n",
       "0   $68.88  \n",
       "1   $50.06  \n",
       "2  $105.44  \n",
       "3   $38.61  \n",
       "4   $82.69  "
      ]
     },
     "execution_count": 78,
     "metadata": {},
     "output_type": "execute_result"
    }
   ],
   "source": [
    "df.head()"
   ]
  },
  {
   "cell_type": "code",
   "execution_count": 79,
   "id": "8249df39",
   "metadata": {
    "id": "8249df39"
   },
   "outputs": [
    {
     "data": {
      "text/plain": [
       "cc_num           69\n",
       "gender            4\n",
       "city             59\n",
       "city_pop         60\n",
       "job              90\n",
       "dob              93\n",
       "acct_num         89\n",
       "acct_num2        89\n",
       "trans_num    100000\n",
       "unix_time     99881\n",
       "category         14\n",
       "amt           19963\n",
       "dtype: int64"
      ]
     },
     "execution_count": 79,
     "metadata": {},
     "output_type": "execute_result"
    }
   ],
   "source": [
    "df.nunique()"
   ]
  },
  {
   "cell_type": "code",
   "execution_count": 80,
   "id": "4d27eb45",
   "metadata": {
    "id": "4d27eb45"
   },
   "outputs": [
    {
     "data": {
      "text/plain": [
       "gender\n",
       "M         73836\n",
       "Male      31692\n",
       "F          3812\n",
       "Female     2537\n",
       "Name: count, dtype: int64"
      ]
     },
     "execution_count": 80,
     "metadata": {},
     "output_type": "execute_result"
    }
   ],
   "source": [
    "df['gender'].value_counts()"
   ]
  },
  {
   "cell_type": "code",
   "execution_count": 81,
   "id": "df7befbd",
   "metadata": {
    "id": "df7befbd"
   },
   "outputs": [
    {
     "data": {
      "text/plain": [
       "Index(['cc_num', 'gender', 'city', 'city_pop', 'job', 'dob', 'acct_num',\n",
       "       'acct_num2', 'trans_num', 'unix_time', 'category', 'amt'],\n",
       "      dtype='object')"
      ]
     },
     "execution_count": 81,
     "metadata": {},
     "output_type": "execute_result"
    }
   ],
   "source": [
    "df.columns"
   ]
  },
  {
   "cell_type": "code",
   "execution_count": 82,
   "id": "0ce23183",
   "metadata": {
    "id": "0ce23183"
   },
   "outputs": [
    {
     "name": "stdout",
     "output_type": "stream",
     "text": [
      "<class 'pandas.core.frame.DataFrame'>\n",
      "RangeIndex: 111877 entries, 0 to 111876\n",
      "Data columns (total 12 columns):\n",
      " #   Column     Non-Null Count   Dtype  \n",
      "---  ------     --------------   -----  \n",
      " 0   cc_num     111877 non-null  float64\n",
      " 1   gender     111877 non-null  object \n",
      " 2   city       111877 non-null  object \n",
      " 3   city_pop   111877 non-null  object \n",
      " 4   job        103427 non-null  object \n",
      " 5   dob        111877 non-null  object \n",
      " 6   acct_num   111877 non-null  int64  \n",
      " 7   acct_num2  111877 non-null  int64  \n",
      " 8   trans_num  111877 non-null  object \n",
      " 9   unix_time  111877 non-null  int64  \n",
      " 10  category   103318 non-null  object \n",
      " 11  amt        111877 non-null  object \n",
      "dtypes: float64(1), int64(3), object(8)\n",
      "memory usage: 10.2+ MB\n"
     ]
    }
   ],
   "source": [
    "df.info()"
   ]
  },
  {
   "cell_type": "markdown",
   "id": "ba82ccb4",
   "metadata": {
    "id": "ba82ccb4"
   },
   "source": [
    "# Data Cleaning"
   ]
  },
  {
   "cell_type": "markdown",
   "id": "eee86423",
   "metadata": {
    "id": "eee86423"
   },
   "source": [
    "## Fix Data Types"
   ]
  },
  {
   "cell_type": "code",
   "execution_count": 83,
   "id": "0f9f9731",
   "metadata": {
    "id": "0f9f9731"
   },
   "outputs": [],
   "source": [
    "# Standardize the values in the \"gender\" column\n",
    "df['gender'] = df['gender'].replace({'Male': 'M', 'Female': 'F'})"
   ]
  },
  {
   "cell_type": "code",
   "execution_count": 84,
   "id": "d771b76e",
   "metadata": {
    "id": "d771b76e"
   },
   "outputs": [],
   "source": [
    "# Convert the \"city_pop\" column to strings\n",
    "df['city_pop']=pd.to_numeric(df['city_pop'].str.replace('people', '').str.replace(',', ''), errors='coerce')"
   ]
  },
  {
   "cell_type": "code",
   "execution_count": 85,
   "id": "72de8189",
   "metadata": {
    "id": "72de8189"
   },
   "outputs": [],
   "source": [
    "# Convert the \"dob\" column to the datetime data type\n",
    "df['dob'] = pd.to_datetime(df['dob'], errors='coerce')"
   ]
  },
  {
   "cell_type": "code",
   "execution_count": 86,
   "id": "e3d1507e",
   "metadata": {
    "id": "e3d1507e"
   },
   "outputs": [],
   "source": [
    "# Drop \"acct_num2\" and Convert the \"acct_num\" column to strings to remove exponential format\n",
    "df.drop(columns=\"acct_num2\", inplace=True)\n",
    "df['acct_num'] = df['acct_num'].astype(str)"
   ]
  },
  {
   "cell_type": "code",
   "execution_count": 87,
   "id": "938f3b52",
   "metadata": {
    "id": "938f3b52"
   },
   "outputs": [],
   "source": [
    "# Convert the \"unix_time\" column to datetime with format \"mm/dd/yy\"\n",
    "df['unix_time'] = pd.to_datetime(df['unix_time'], unit='s')"
   ]
  },
  {
   "cell_type": "code",
   "execution_count": 88,
   "id": "7268b701",
   "metadata": {
    "id": "7268b701"
   },
   "outputs": [],
   "source": [
    "# Convert the \"price\" column to float\n",
    "df['amt']=pd.to_numeric(df['amt'].str.replace('$', '').str.replace(',', ''), errors='coerce')"
   ]
  },
  {
   "cell_type": "markdown",
   "id": "e3c1058a",
   "metadata": {
    "id": "e3c1058a"
   },
   "source": [
    "## Check Null Values"
   ]
  },
  {
   "cell_type": "code",
   "execution_count": 89,
   "id": "1a8f1e0d",
   "metadata": {
    "id": "1a8f1e0d"
   },
   "outputs": [
    {
     "name": "stdout",
     "output_type": "stream",
     "text": [
      "<class 'pandas.core.frame.DataFrame'>\n",
      "RangeIndex: 111877 entries, 0 to 111876\n",
      "Data columns (total 11 columns):\n",
      " #   Column     Non-Null Count   Dtype         \n",
      "---  ------     --------------   -----         \n",
      " 0   cc_num     111877 non-null  float64       \n",
      " 1   gender     111877 non-null  object        \n",
      " 2   city       111877 non-null  object        \n",
      " 3   city_pop   111877 non-null  int64         \n",
      " 4   job        103427 non-null  object        \n",
      " 5   dob        45296 non-null   datetime64[ns]\n",
      " 6   acct_num   111877 non-null  object        \n",
      " 7   trans_num  111877 non-null  object        \n",
      " 8   unix_time  111877 non-null  datetime64[ns]\n",
      " 9   category   103318 non-null  object        \n",
      " 10  amt        111877 non-null  float64       \n",
      "dtypes: datetime64[ns](2), float64(2), int64(1), object(6)\n",
      "memory usage: 9.4+ MB\n"
     ]
    }
   ],
   "source": [
    "df.info()"
   ]
  },
  {
   "cell_type": "code",
   "execution_count": 90,
   "id": "b58cd6ce",
   "metadata": {
    "id": "b58cd6ce"
   },
   "outputs": [
    {
     "name": "stdout",
     "output_type": "stream",
     "text": [
      "Total null values in 'job' column: 8450\n",
      "Total null values in 'category' column: 8559\n",
      "Total null values in 'job' and 'category' columns: 17009\n"
     ]
    }
   ],
   "source": [
    "job_null_count = df['job'].isnull().sum()\n",
    "category_null_count = df['category'].isnull().sum()\n",
    "total_null_count = df[['job', 'category']].isnull().sum().sum()\n",
    "\n",
    "\n",
    "print(\"Total null values in 'job' column: {}\".format(job_null_count.round(2)))\n",
    "print(\"Total null values in 'category' column: {}\".format(category_null_count.round(2)))\n",
    "print(\"Total null values in 'job' and 'category' columns: {}\".format(total_null_count.round(2)))"
   ]
  },
  {
   "cell_type": "code",
   "execution_count": 91,
   "id": "36c4e3f9",
   "metadata": {
    "id": "36c4e3f9"
   },
   "outputs": [
    {
     "name": "stdout",
     "output_type": "stream",
     "text": [
      "Share of null values in 'job' column: 7.55%\n",
      "Share of null values in 'category' column: 7.65%\n",
      "Share of null values in 'job' and 'category' columns combined: 15.2%\n"
     ]
    }
   ],
   "source": [
    "# Compute number of rows with null value\n",
    "print(\"Share of null values in 'job' column: {}%\".format((100*(job_null_count/df.shape[0])).round(2)))\n",
    "print(\"Share of null values in 'category' column: {}%\".format((100*(category_null_count/df.shape[0])).round(2)))\n",
    "print(\"Share of null values in 'job' and 'category' columns combined: {}%\".format((100*(total_null_count/df.shape[0])).round(2)))"
   ]
  },
  {
   "cell_type": "markdown",
   "id": "fb6690c6",
   "metadata": {
    "id": "fb6690c6"
   },
   "source": [
    "Dealing with Null Values: <br>\n",
    "Since both 'job' and 'category' columns will not be used as main factors/variables to the study, we will retain null values and fill them with 'Not Indicated' values"
   ]
  },
  {
   "cell_type": "code",
   "execution_count": 92,
   "id": "58c98dfe",
   "metadata": {
    "id": "58c98dfe"
   },
   "outputs": [],
   "source": [
    "# Replace null values in the \"job\" column with \"No Job Indicated\"\n",
    "df['job'] = df['job'].fillna('No Job Indicated')\n",
    "# Replace null values in the \"category\" column with \"No Category Indicated\"\n",
    "df['category'].fillna('No Category Indicated', inplace=True)"
   ]
  },
  {
   "cell_type": "code",
   "execution_count": 93,
   "id": "4ef9c894",
   "metadata": {
    "id": "4ef9c894"
   },
   "outputs": [
    {
     "name": "stdout",
     "output_type": "stream",
     "text": [
      "<class 'pandas.core.frame.DataFrame'>\n",
      "RangeIndex: 111877 entries, 0 to 111876\n",
      "Data columns (total 11 columns):\n",
      " #   Column     Non-Null Count   Dtype         \n",
      "---  ------     --------------   -----         \n",
      " 0   cc_num     111877 non-null  float64       \n",
      " 1   gender     111877 non-null  object        \n",
      " 2   city       111877 non-null  object        \n",
      " 3   city_pop   111877 non-null  int64         \n",
      " 4   job        111877 non-null  object        \n",
      " 5   dob        45296 non-null   datetime64[ns]\n",
      " 6   acct_num   111877 non-null  object        \n",
      " 7   trans_num  111877 non-null  object        \n",
      " 8   unix_time  111877 non-null  datetime64[ns]\n",
      " 9   category   111877 non-null  object        \n",
      " 10  amt        111877 non-null  float64       \n",
      "dtypes: datetime64[ns](2), float64(2), int64(1), object(6)\n",
      "memory usage: 9.4+ MB\n"
     ]
    }
   ],
   "source": [
    "df.info()"
   ]
  },
  {
   "cell_type": "code",
   "execution_count": 94,
   "id": "c81cfa32",
   "metadata": {
    "id": "c81cfa32"
   },
   "outputs": [
    {
     "data": {
      "text/html": [
       "<div>\n",
       "<style scoped>\n",
       "    .dataframe tbody tr th:only-of-type {\n",
       "        vertical-align: middle;\n",
       "    }\n",
       "\n",
       "    .dataframe tbody tr th {\n",
       "        vertical-align: top;\n",
       "    }\n",
       "\n",
       "    .dataframe thead th {\n",
       "        text-align: right;\n",
       "    }\n",
       "</style>\n",
       "<table border=\"1\" class=\"dataframe\">\n",
       "  <thead>\n",
       "    <tr style=\"text-align: right;\">\n",
       "      <th></th>\n",
       "      <th>cc_num</th>\n",
       "      <th>gender</th>\n",
       "      <th>city</th>\n",
       "      <th>city_pop</th>\n",
       "      <th>job</th>\n",
       "      <th>dob</th>\n",
       "      <th>acct_num</th>\n",
       "      <th>trans_num</th>\n",
       "      <th>unix_time</th>\n",
       "      <th>category</th>\n",
       "      <th>amt</th>\n",
       "    </tr>\n",
       "  </thead>\n",
       "  <tbody>\n",
       "    <tr>\n",
       "      <th>0</th>\n",
       "      <td>6.760000e+11</td>\n",
       "      <td>M</td>\n",
       "      <td>Dasmarinas</td>\n",
       "      <td>659019</td>\n",
       "      <td>Chartered loss adjuster</td>\n",
       "      <td>1958-12-12</td>\n",
       "      <td>798000000000</td>\n",
       "      <td>a72eaa86b043eed95b25bbb25b3153a1</td>\n",
       "      <td>2020-02-10 05:53:31</td>\n",
       "      <td>shopping_net</td>\n",
       "      <td>68.88</td>\n",
       "    </tr>\n",
       "    <tr>\n",
       "      <th>1</th>\n",
       "      <td>3.520000e+15</td>\n",
       "      <td>M</td>\n",
       "      <td>Digos</td>\n",
       "      <td>169393</td>\n",
       "      <td>Administrator, charities/voluntary organisations</td>\n",
       "      <td>NaT</td>\n",
       "      <td>968000000000</td>\n",
       "      <td>060d12f91c13871a13963041736a4702</td>\n",
       "      <td>2020-05-31 05:29:28</td>\n",
       "      <td>entertainment</td>\n",
       "      <td>50.06</td>\n",
       "    </tr>\n",
       "    <tr>\n",
       "      <th>2</th>\n",
       "      <td>4.140000e+18</td>\n",
       "      <td>M</td>\n",
       "      <td>Calapan</td>\n",
       "      <td>133893</td>\n",
       "      <td>Financial controller</td>\n",
       "      <td>NaT</td>\n",
       "      <td>628000000000</td>\n",
       "      <td>18aafb6098ab0923886c0ac83592ef8d</td>\n",
       "      <td>2020-03-29 05:52:37</td>\n",
       "      <td>food_dining</td>\n",
       "      <td>105.44</td>\n",
       "    </tr>\n",
       "    <tr>\n",
       "      <th>3</th>\n",
       "      <td>4.870000e+15</td>\n",
       "      <td>M</td>\n",
       "      <td>San Fernando</td>\n",
       "      <td>121812</td>\n",
       "      <td>No Job Indicated</td>\n",
       "      <td>NaT</td>\n",
       "      <td>863000000000</td>\n",
       "      <td>45bbe714e51ab8a375454d39a190b0cb</td>\n",
       "      <td>2021-02-11 17:15:04</td>\n",
       "      <td>food_dining</td>\n",
       "      <td>38.61</td>\n",
       "    </tr>\n",
       "    <tr>\n",
       "      <th>4</th>\n",
       "      <td>4.720000e+15</td>\n",
       "      <td>M</td>\n",
       "      <td>Laoag</td>\n",
       "      <td>111125</td>\n",
       "      <td>Dance movement psychotherapist</td>\n",
       "      <td>1954-11-01</td>\n",
       "      <td>257000000000</td>\n",
       "      <td>c20ee88b451f637bc6893b7460e9fee0</td>\n",
       "      <td>2020-09-28 08:35:59</td>\n",
       "      <td>gas_transport</td>\n",
       "      <td>82.69</td>\n",
       "    </tr>\n",
       "  </tbody>\n",
       "</table>\n",
       "</div>"
      ],
      "text/plain": [
       "         cc_num gender          city  city_pop  \\\n",
       "0  6.760000e+11      M    Dasmarinas    659019   \n",
       "1  3.520000e+15      M         Digos    169393   \n",
       "2  4.140000e+18      M       Calapan    133893   \n",
       "3  4.870000e+15      M  San Fernando    121812   \n",
       "4  4.720000e+15      M         Laoag    111125   \n",
       "\n",
       "                                                job        dob      acct_num  \\\n",
       "0                           Chartered loss adjuster 1958-12-12  798000000000   \n",
       "1  Administrator, charities/voluntary organisations        NaT  968000000000   \n",
       "2                              Financial controller        NaT  628000000000   \n",
       "3                                  No Job Indicated        NaT  863000000000   \n",
       "4                    Dance movement psychotherapist 1954-11-01  257000000000   \n",
       "\n",
       "                          trans_num           unix_time       category     amt  \n",
       "0  a72eaa86b043eed95b25bbb25b3153a1 2020-02-10 05:53:31   shopping_net   68.88  \n",
       "1  060d12f91c13871a13963041736a4702 2020-05-31 05:29:28  entertainment   50.06  \n",
       "2  18aafb6098ab0923886c0ac83592ef8d 2020-03-29 05:52:37    food_dining  105.44  \n",
       "3  45bbe714e51ab8a375454d39a190b0cb 2021-02-11 17:15:04    food_dining   38.61  \n",
       "4  c20ee88b451f637bc6893b7460e9fee0 2020-09-28 08:35:59  gas_transport   82.69  "
      ]
     },
     "execution_count": 94,
     "metadata": {},
     "output_type": "execute_result"
    }
   ],
   "source": [
    "df.head()"
   ]
  },
  {
   "cell_type": "markdown",
   "id": "11ae7727",
   "metadata": {
    "id": "11ae7727"
   },
   "source": [
    "# Check Duplicates"
   ]
  },
  {
   "cell_type": "code",
   "execution_count": 95,
   "id": "1f22b026",
   "metadata": {
    "id": "1f22b026"
   },
   "outputs": [
    {
     "name": "stdout",
     "output_type": "stream",
     "text": [
      "Total Number of Duplicates: 11877\n",
      "Share of Duplicates: 10.62%\n"
     ]
    }
   ],
   "source": [
    "total_duplicates = df.duplicated().sum()\n",
    "duplicates_share = ((total_duplicates)/df.shape[0])*100\n",
    "\n",
    "print(\"Total Number of Duplicates: {}\".format(total_duplicates))\n",
    "print(\"Share of Duplicates: {}%\".format(duplicates_share.round(2)))"
   ]
  },
  {
   "cell_type": "code",
   "execution_count": 96,
   "id": "52602d66",
   "metadata": {
    "id": "52602d66"
   },
   "outputs": [],
   "source": [
    "#Drop duplicates since transactions should be unique\n",
    "df.drop_duplicates(inplace=True)"
   ]
  },
  {
   "cell_type": "code",
   "execution_count": 97,
   "id": "276f9a01",
   "metadata": {
    "id": "276f9a01"
   },
   "outputs": [],
   "source": [
    "df = df.reset_index(drop=True)"
   ]
  },
  {
   "cell_type": "code",
   "execution_count": 98,
   "id": "87751250",
   "metadata": {
    "id": "87751250"
   },
   "outputs": [
    {
     "name": "stdout",
     "output_type": "stream",
     "text": [
      "<class 'pandas.core.frame.DataFrame'>\n",
      "RangeIndex: 100000 entries, 0 to 99999\n",
      "Data columns (total 11 columns):\n",
      " #   Column     Non-Null Count   Dtype         \n",
      "---  ------     --------------   -----         \n",
      " 0   cc_num     100000 non-null  float64       \n",
      " 1   gender     100000 non-null  object        \n",
      " 2   city       100000 non-null  object        \n",
      " 3   city_pop   100000 non-null  int64         \n",
      " 4   job        100000 non-null  object        \n",
      " 5   dob        40443 non-null   datetime64[ns]\n",
      " 6   acct_num   100000 non-null  object        \n",
      " 7   trans_num  100000 non-null  object        \n",
      " 8   unix_time  100000 non-null  datetime64[ns]\n",
      " 9   category   100000 non-null  object        \n",
      " 10  amt        100000 non-null  float64       \n",
      "dtypes: datetime64[ns](2), float64(2), int64(1), object(6)\n",
      "memory usage: 8.4+ MB\n"
     ]
    }
   ],
   "source": [
    "df.info()"
   ]
  },
  {
   "cell_type": "markdown",
   "id": "c9abd69b",
   "metadata": {
    "id": "c9abd69b"
   },
   "source": [
    "New no. of rows: 100k"
   ]
  },
  {
   "cell_type": "markdown",
   "id": "4622c141",
   "metadata": {
    "id": "4622c141"
   },
   "source": [
    "# Feature Engineering"
   ]
  },
  {
   "cell_type": "code",
   "execution_count": 99,
   "id": "6f8cd60f",
   "metadata": {
    "id": "6f8cd60f"
   },
   "outputs": [
    {
     "data": {
      "text/html": [
       "<div>\n",
       "<style scoped>\n",
       "    .dataframe tbody tr th:only-of-type {\n",
       "        vertical-align: middle;\n",
       "    }\n",
       "\n",
       "    .dataframe tbody tr th {\n",
       "        vertical-align: top;\n",
       "    }\n",
       "\n",
       "    .dataframe thead th {\n",
       "        text-align: right;\n",
       "    }\n",
       "</style>\n",
       "<table border=\"1\" class=\"dataframe\">\n",
       "  <thead>\n",
       "    <tr style=\"text-align: right;\">\n",
       "      <th></th>\n",
       "      <th>cc_num</th>\n",
       "      <th>gender</th>\n",
       "      <th>city</th>\n",
       "      <th>city_pop</th>\n",
       "      <th>job</th>\n",
       "      <th>dob</th>\n",
       "      <th>acct_num</th>\n",
       "      <th>trans_num</th>\n",
       "      <th>unix_time</th>\n",
       "      <th>category</th>\n",
       "      <th>amt</th>\n",
       "      <th>age</th>\n",
       "    </tr>\n",
       "  </thead>\n",
       "  <tbody>\n",
       "    <tr>\n",
       "      <th>0</th>\n",
       "      <td>6.760000e+11</td>\n",
       "      <td>M</td>\n",
       "      <td>Dasmarinas</td>\n",
       "      <td>659019</td>\n",
       "      <td>Chartered loss adjuster</td>\n",
       "      <td>1958-12-12</td>\n",
       "      <td>798000000000</td>\n",
       "      <td>a72eaa86b043eed95b25bbb25b3153a1</td>\n",
       "      <td>2020-02-10 05:53:31</td>\n",
       "      <td>shopping_net</td>\n",
       "      <td>68.88</td>\n",
       "      <td>61.0</td>\n",
       "    </tr>\n",
       "    <tr>\n",
       "      <th>1</th>\n",
       "      <td>3.520000e+15</td>\n",
       "      <td>M</td>\n",
       "      <td>Digos</td>\n",
       "      <td>169393</td>\n",
       "      <td>Administrator, charities/voluntary organisations</td>\n",
       "      <td>NaT</td>\n",
       "      <td>968000000000</td>\n",
       "      <td>060d12f91c13871a13963041736a4702</td>\n",
       "      <td>2020-05-31 05:29:28</td>\n",
       "      <td>entertainment</td>\n",
       "      <td>50.06</td>\n",
       "      <td>NaN</td>\n",
       "    </tr>\n",
       "    <tr>\n",
       "      <th>2</th>\n",
       "      <td>4.140000e+18</td>\n",
       "      <td>M</td>\n",
       "      <td>Calapan</td>\n",
       "      <td>133893</td>\n",
       "      <td>Financial controller</td>\n",
       "      <td>NaT</td>\n",
       "      <td>628000000000</td>\n",
       "      <td>18aafb6098ab0923886c0ac83592ef8d</td>\n",
       "      <td>2020-03-29 05:52:37</td>\n",
       "      <td>food_dining</td>\n",
       "      <td>105.44</td>\n",
       "      <td>NaN</td>\n",
       "    </tr>\n",
       "    <tr>\n",
       "      <th>3</th>\n",
       "      <td>4.870000e+15</td>\n",
       "      <td>M</td>\n",
       "      <td>San Fernando</td>\n",
       "      <td>121812</td>\n",
       "      <td>No Job Indicated</td>\n",
       "      <td>NaT</td>\n",
       "      <td>863000000000</td>\n",
       "      <td>45bbe714e51ab8a375454d39a190b0cb</td>\n",
       "      <td>2021-02-11 17:15:04</td>\n",
       "      <td>food_dining</td>\n",
       "      <td>38.61</td>\n",
       "      <td>NaN</td>\n",
       "    </tr>\n",
       "    <tr>\n",
       "      <th>4</th>\n",
       "      <td>4.720000e+15</td>\n",
       "      <td>M</td>\n",
       "      <td>Laoag</td>\n",
       "      <td>111125</td>\n",
       "      <td>Dance movement psychotherapist</td>\n",
       "      <td>1954-11-01</td>\n",
       "      <td>257000000000</td>\n",
       "      <td>c20ee88b451f637bc6893b7460e9fee0</td>\n",
       "      <td>2020-09-28 08:35:59</td>\n",
       "      <td>gas_transport</td>\n",
       "      <td>82.69</td>\n",
       "      <td>65.0</td>\n",
       "    </tr>\n",
       "  </tbody>\n",
       "</table>\n",
       "</div>"
      ],
      "text/plain": [
       "         cc_num gender          city  city_pop  \\\n",
       "0  6.760000e+11      M    Dasmarinas    659019   \n",
       "1  3.520000e+15      M         Digos    169393   \n",
       "2  4.140000e+18      M       Calapan    133893   \n",
       "3  4.870000e+15      M  San Fernando    121812   \n",
       "4  4.720000e+15      M         Laoag    111125   \n",
       "\n",
       "                                                job        dob      acct_num  \\\n",
       "0                           Chartered loss adjuster 1958-12-12  798000000000   \n",
       "1  Administrator, charities/voluntary organisations        NaT  968000000000   \n",
       "2                              Financial controller        NaT  628000000000   \n",
       "3                                  No Job Indicated        NaT  863000000000   \n",
       "4                    Dance movement psychotherapist 1954-11-01  257000000000   \n",
       "\n",
       "                          trans_num           unix_time       category  \\\n",
       "0  a72eaa86b043eed95b25bbb25b3153a1 2020-02-10 05:53:31   shopping_net   \n",
       "1  060d12f91c13871a13963041736a4702 2020-05-31 05:29:28  entertainment   \n",
       "2  18aafb6098ab0923886c0ac83592ef8d 2020-03-29 05:52:37    food_dining   \n",
       "3  45bbe714e51ab8a375454d39a190b0cb 2021-02-11 17:15:04    food_dining   \n",
       "4  c20ee88b451f637bc6893b7460e9fee0 2020-09-28 08:35:59  gas_transport   \n",
       "\n",
       "      amt   age  \n",
       "0   68.88  61.0  \n",
       "1   50.06   NaN  \n",
       "2  105.44   NaN  \n",
       "3   38.61   NaN  \n",
       "4   82.69  65.0  "
      ]
     },
     "execution_count": 99,
     "metadata": {},
     "output_type": "execute_result"
    }
   ],
   "source": [
    "# Calculate customer age from date_of_birth\n",
    "#df['dob'] = pd.to_datetime(df['dob'])\n",
    "#df['age'] = (pd.to_datetime('now') - df['dob']).astype('<m8[Y]')\n",
    "\n",
    "#df['dob'] = pd.to_datetime(df['dob'])\n",
    "df['dob'] = pd.to_datetime(df['dob'], format='%d/%m/%Y')\n",
    "df['age'] = (df['unix_time']-df['dob'])\n",
    "# Convert the age column to years only\n",
    "df['age'] = df['age'].dt.days // 365 # Use integer division to get the whole number of years\n",
    "df.head()"
   ]
  },
  {
   "cell_type": "code",
   "execution_count": 100,
   "id": "ce50b14c",
   "metadata": {
    "id": "ce50b14c"
   },
   "outputs": [],
   "source": [
    "# Extract Date, Month, and year of transactions\n",
    "df['trans_date'] = df['unix_time'].dt.strftime('%Y-%m-%d')\n",
    "df['trans_year'] = df['unix_time'].dt.strftime('%Y')\n",
    "df['trans_month'] = df['unix_time'].dt.strftime('%b')"
   ]
  },
  {
   "cell_type": "code",
   "execution_count": 101,
   "id": "ffa35c89",
   "metadata": {
    "id": "ffa35c89"
   },
   "outputs": [],
   "source": [
    "# Check for location behavior\n",
    "df['is_ncr'] = df['city'].apply(lambda x: 1 if x in ['City of Parañaque','Malabon','Makati City','City of Calamba','Manila','Muntinlupa City','Olongapo','Valenzuela','Caloocan City','San Jose del Monte','Imus','San Juan','Mandaluyong City'] else 0)"
   ]
  },
  {
   "cell_type": "code",
   "execution_count": 102,
   "id": "a437ed51",
   "metadata": {
    "id": "a437ed51"
   },
   "outputs": [],
   "source": [
    "# Separate net and pos data\n",
    "df['gen_cat'] = df['category'].apply(lambda x: 'Net' if '_net' in x  else ('POS' if 'pos' in x else 'Other'))"
   ]
  },
  {
   "cell_type": "markdown",
   "id": "a2e0300d",
   "metadata": {
    "id": "a2e0300d"
   },
   "source": [
    "# EDA"
   ]
  },
  {
   "cell_type": "code",
   "execution_count": 103,
   "id": "7455d11c",
   "metadata": {
    "id": "7455d11c"
   },
   "outputs": [],
   "source": [
    "def set_chart_properties(title,x_label,y_label,legend_title):\n",
    "    sns.set(style=\"whitegrid\")\n",
    "    # Set plot labels and title\n",
    "    plt.xlabel(x_label,fontproperties=nunito_font, fontsize=14)\n",
    "    plt.ylabel(y_label,fontproperties=nunito_font, fontsize=14)\n",
    "    plt.title(title,fontproperties=dream_font, fontsize=20)\n",
    "\n",
    "    # Show the legend\n",
    "    plt.legend(title=legend_title, loc='upper right', prop=nunito_font)\n",
    "\n",
    "    plt.xticks(fontproperties=nunito_font, fontsize=12)\n",
    "    plt.yticks(fontproperties=nunito_font, fontsize=12)\n",
    "\n",
    "    plt.grid(False)\n"
   ]
  },
  {
   "cell_type": "markdown",
   "id": "9c9e2d31",
   "metadata": {
    "id": "9c9e2d31"
   },
   "source": [
    "# Descriptive Statistics"
   ]
  },
  {
   "cell_type": "code",
   "execution_count": 104,
   "id": "ccec2433",
   "metadata": {
    "id": "ccec2433"
   },
   "outputs": [
    {
     "data": {
      "text/html": [
       "<div>\n",
       "<style scoped>\n",
       "    .dataframe tbody tr th:only-of-type {\n",
       "        vertical-align: middle;\n",
       "    }\n",
       "\n",
       "    .dataframe tbody tr th {\n",
       "        vertical-align: top;\n",
       "    }\n",
       "\n",
       "    .dataframe thead th {\n",
       "        text-align: right;\n",
       "    }\n",
       "</style>\n",
       "<table border=\"1\" class=\"dataframe\">\n",
       "  <thead>\n",
       "    <tr style=\"text-align: right;\">\n",
       "      <th></th>\n",
       "      <th>cc_num</th>\n",
       "      <th>city_pop</th>\n",
       "      <th>dob</th>\n",
       "      <th>unix_time</th>\n",
       "      <th>amt</th>\n",
       "      <th>age</th>\n",
       "      <th>is_ncr</th>\n",
       "    </tr>\n",
       "  </thead>\n",
       "  <tbody>\n",
       "    <tr>\n",
       "      <th>count</th>\n",
       "      <td>1.000000e+05</td>\n",
       "      <td>1.000000e+05</td>\n",
       "      <td>40443</td>\n",
       "      <td>100000</td>\n",
       "      <td>100000.000000</td>\n",
       "      <td>40443.000000</td>\n",
       "      <td>100000.000000</td>\n",
       "    </tr>\n",
       "    <tr>\n",
       "      <th>mean</th>\n",
       "      <td>3.768208e+17</td>\n",
       "      <td>4.542336e+05</td>\n",
       "      <td>1954-10-12 08:31:07.161189824</td>\n",
       "      <td>2020-12-28 05:59:06.253699840</td>\n",
       "      <td>70.292041</td>\n",
       "      <td>65.762728</td>\n",
       "      <td>0.163160</td>\n",
       "    </tr>\n",
       "    <tr>\n",
       "      <th>min</th>\n",
       "      <td>6.049060e+10</td>\n",
       "      <td>4.104100e+04</td>\n",
       "      <td>1930-02-04 00:00:00</td>\n",
       "      <td>2020-01-01 00:06:15</td>\n",
       "      <td>1.000000</td>\n",
       "      <td>49.000000</td>\n",
       "      <td>0.000000</td>\n",
       "    </tr>\n",
       "    <tr>\n",
       "      <th>25%</th>\n",
       "      <td>3.800000e+13</td>\n",
       "      <td>1.338930e+05</td>\n",
       "      <td>1949-05-12 00:00:00</td>\n",
       "      <td>2020-07-11 04:48:53.750000128</td>\n",
       "      <td>8.740000</td>\n",
       "      <td>56.000000</td>\n",
       "      <td>0.000000</td>\n",
       "    </tr>\n",
       "    <tr>\n",
       "      <th>50%</th>\n",
       "      <td>3.520000e+15</td>\n",
       "      <td>2.330400e+05</td>\n",
       "      <td>1955-12-08 00:00:00</td>\n",
       "      <td>2020-12-19 02:06:04.500000</td>\n",
       "      <td>49.160000</td>\n",
       "      <td>65.000000</td>\n",
       "      <td>0.000000</td>\n",
       "    </tr>\n",
       "    <tr>\n",
       "      <th>75%</th>\n",
       "      <td>4.620000e+15</td>\n",
       "      <td>3.537670e+05</td>\n",
       "      <td>1963-10-02 00:00:00</td>\n",
       "      <td>2021-06-22 14:51:27</td>\n",
       "      <td>85.442500</td>\n",
       "      <td>72.000000</td>\n",
       "      <td>0.000000</td>\n",
       "    </tr>\n",
       "    <tr>\n",
       "      <th>max</th>\n",
       "      <td>4.830000e+18</td>\n",
       "      <td>2.308800e+07</td>\n",
       "      <td>1970-07-02 00:00:00</td>\n",
       "      <td>2021-12-06 23:50:42</td>\n",
       "      <td>18039.810000</td>\n",
       "      <td>91.000000</td>\n",
       "      <td>1.000000</td>\n",
       "    </tr>\n",
       "    <tr>\n",
       "      <th>std</th>\n",
       "      <td>1.231884e+18</td>\n",
       "      <td>1.931346e+06</td>\n",
       "      <td>NaN</td>\n",
       "      <td>NaN</td>\n",
       "      <td>183.991890</td>\n",
       "      <td>11.411454</td>\n",
       "      <td>0.369513</td>\n",
       "    </tr>\n",
       "  </tbody>\n",
       "</table>\n",
       "</div>"
      ],
      "text/plain": [
       "             cc_num      city_pop                            dob  \\\n",
       "count  1.000000e+05  1.000000e+05                          40443   \n",
       "mean   3.768208e+17  4.542336e+05  1954-10-12 08:31:07.161189824   \n",
       "min    6.049060e+10  4.104100e+04            1930-02-04 00:00:00   \n",
       "25%    3.800000e+13  1.338930e+05            1949-05-12 00:00:00   \n",
       "50%    3.520000e+15  2.330400e+05            1955-12-08 00:00:00   \n",
       "75%    4.620000e+15  3.537670e+05            1963-10-02 00:00:00   \n",
       "max    4.830000e+18  2.308800e+07            1970-07-02 00:00:00   \n",
       "std    1.231884e+18  1.931346e+06                            NaN   \n",
       "\n",
       "                           unix_time            amt           age  \\\n",
       "count                         100000  100000.000000  40443.000000   \n",
       "mean   2020-12-28 05:59:06.253699840      70.292041     65.762728   \n",
       "min              2020-01-01 00:06:15       1.000000     49.000000   \n",
       "25%    2020-07-11 04:48:53.750000128       8.740000     56.000000   \n",
       "50%       2020-12-19 02:06:04.500000      49.160000     65.000000   \n",
       "75%              2021-06-22 14:51:27      85.442500     72.000000   \n",
       "max              2021-12-06 23:50:42   18039.810000     91.000000   \n",
       "std                              NaN     183.991890     11.411454   \n",
       "\n",
       "              is_ncr  \n",
       "count  100000.000000  \n",
       "mean        0.163160  \n",
       "min         0.000000  \n",
       "25%         0.000000  \n",
       "50%         0.000000  \n",
       "75%         0.000000  \n",
       "max         1.000000  \n",
       "std         0.369513  "
      ]
     },
     "execution_count": 104,
     "metadata": {},
     "output_type": "execute_result"
    }
   ],
   "source": [
    "df.describe()"
   ]
  },
  {
   "cell_type": "markdown",
   "id": "4672604b",
   "metadata": {
    "id": "4672604b"
   },
   "source": [
    "# Age"
   ]
  },
  {
   "cell_type": "code",
   "execution_count": 105,
   "id": "d7f9eed0",
   "metadata": {
    "id": "d7f9eed0"
   },
   "outputs": [],
   "source": [
    "df_agg = df[df['gen_cat'] != 'Other'].groupby(['acct_num']).agg({'age':'mean'}).reset_index()"
   ]
  },
  {
   "cell_type": "code",
   "execution_count": 212,
   "id": "9094f8fd",
   "metadata": {
    "id": "9094f8fd"
   },
   "outputs": [
    {
     "data": {
      "image/png": "[encoded data removed]",
      "text/plain": [
       "<Figure size 1000x600 with 1 Axes>"
      ]
     },
     "metadata": {},
     "output_type": "display_data"
    }
   ],
   "source": [
    "plt.figure(figsize=(10, 6))\n",
    "\n",
    "sns.histplot(x='age', data=df_agg, color='#CD595B')\n",
    "\n",
    "#set_chart_properties(\"Age Distribution\",\"Age\",\"Count\",\"\")\n",
    "\n",
    "plt.show()"
   ]
  },
  {
   "cell_type": "code",
   "execution_count": 213,
   "id": "f5c854fe",
   "metadata": {
    "id": "f5c854fe"
   },
   "outputs": [
    {
     "name": "stdout",
     "output_type": "stream",
     "text": [
      "Age range is 50.09090909090909 to 89.8298755186722, with a average value of 64.78\n"
     ]
    }
   ],
   "source": [
    "print(\"Age range is {} to {}, with a average value of {}\".format(df_agg['age'].min(), df_agg['age'].max(),df_agg['age'].mean().round(2)))"
   ]
  },
  {
   "cell_type": "markdown",
   "id": "abff3538",
   "metadata": {
    "id": "abff3538"
   },
   "source": [
    "## Transactions per category YoY"
   ]
  },
  {
   "cell_type": "code",
   "execution_count": 250,
   "id": "44915dc0",
   "metadata": {
    "id": "44915dc0"
   },
   "outputs": [
    {
     "data": {
      "image/png": "[encoded data removed]",
      "text/plain": [
       "<Figure size 800x600 with 1 Axes>"
      ]
     },
     "metadata": {},
     "output_type": "display_data"
    }
   ],
   "source": [
    "plt.figure(figsize=(8, 6))\n",
    "bar_colors = ['#9468AC', '#FECE6B']\n",
    "\n",
    "sns.countplot(x='trans_year', hue='gen_cat', data=df[df['gen_cat']!='Other'], palette=bar_colors)\n",
    "\n",
    "#set_chart_properties(\"Transactions per Category (2020 vs. 2021)\",\"Year\",\"Transaction Count\",\"Category\")\n",
    "\n",
    "plt.show()"
   ]
  },
  {
   "cell_type": "code",
   "execution_count": 251,
   "id": "7b1a3b86",
   "metadata": {
    "id": "7b1a3b86"
   },
   "outputs": [],
   "source": [
    "df_pos_net = df[df['gen_cat']!='Other']"
   ]
  },
  {
   "cell_type": "code",
   "execution_count": 252,
   "id": "a67a0291",
   "metadata": {
    "id": "a67a0291"
   },
   "outputs": [
    {
     "data": {
      "text/html": [
       "<div>\n",
       "<style scoped>\n",
       "    .dataframe tbody tr th:only-of-type {\n",
       "        vertical-align: middle;\n",
       "    }\n",
       "\n",
       "    .dataframe tbody tr th {\n",
       "        vertical-align: top;\n",
       "    }\n",
       "\n",
       "    .dataframe thead th {\n",
       "        text-align: right;\n",
       "    }\n",
       "</style>\n",
       "<table border=\"1\" class=\"dataframe\">\n",
       "  <thead>\n",
       "    <tr style=\"text-align: right;\">\n",
       "      <th></th>\n",
       "      <th>trans_year</th>\n",
       "      <th>gen_cat</th>\n",
       "      <th>trans_num</th>\n",
       "    </tr>\n",
       "  </thead>\n",
       "  <tbody>\n",
       "    <tr>\n",
       "      <th>0</th>\n",
       "      <td>2020</td>\n",
       "      <td>Net</td>\n",
       "      <td>4985</td>\n",
       "    </tr>\n",
       "    <tr>\n",
       "      <th>1</th>\n",
       "      <td>2020</td>\n",
       "      <td>POS</td>\n",
       "      <td>13178</td>\n",
       "    </tr>\n",
       "    <tr>\n",
       "      <th>2</th>\n",
       "      <td>2021</td>\n",
       "      <td>Net</td>\n",
       "      <td>4359</td>\n",
       "    </tr>\n",
       "    <tr>\n",
       "      <th>3</th>\n",
       "      <td>2021</td>\n",
       "      <td>POS</td>\n",
       "      <td>11628</td>\n",
       "    </tr>\n",
       "  </tbody>\n",
       "</table>\n",
       "</div>"
      ],
      "text/plain": [
       "  trans_year gen_cat  trans_num\n",
       "0       2020     Net       4985\n",
       "1       2020     POS      13178\n",
       "2       2021     Net       4359\n",
       "3       2021     POS      11628"
      ]
     },
     "execution_count": 252,
     "metadata": {},
     "output_type": "execute_result"
    }
   ],
   "source": [
    "df_pos_net_agg  = df_pos_net.groupby(['trans_year','gen_cat']).agg({'trans_num':'count'}).reset_index()\n",
    "df_pos_net_agg"
   ]
  },
  {
   "cell_type": "code",
   "execution_count": 253,
   "id": "e8c443af",
   "metadata": {
    "id": "e8c443af"
   },
   "outputs": [
    {
     "name": "stdout",
     "output_type": "stream",
     "text": [
      " POS has 164.0% more purchases compared to Net in 2020\n"
     ]
    }
   ],
   "source": [
    "pos_2020 = df_pos_net_agg.loc[(df_pos_net_agg['trans_year'] == '2020') & (df_pos_net_agg['gen_cat'] == 'POS'), 'trans_num'].sum()\n",
    "net_2020 = df_pos_net_agg.loc[(df_pos_net_agg['trans_year'] == '2020') & (df_pos_net_agg['gen_cat'] == 'Net'), 'trans_num'].sum()\n",
    "result_2020 = pos_2020 / net_2020 - 1\n",
    "print(\" POS has {}% more purchases compared to Net in 2020\".format(100*result_2020.round(2)))"
   ]
  },
  {
   "cell_type": "code",
   "execution_count": 254,
   "id": "9b260ac7",
   "metadata": {
    "id": "9b260ac7"
   },
   "outputs": [
    {
     "name": "stdout",
     "output_type": "stream",
     "text": [
      " POS has 167.0% more purchases compared to Net in 2021\n"
     ]
    }
   ],
   "source": [
    "pos_2021 = df_pos_net_agg.loc[(df_pos_net_agg['trans_year'] == '2021') & (df_pos_net_agg['gen_cat'] == 'POS'), 'trans_num'].sum()\n",
    "net_2021 = df_pos_net_agg.loc[(df_pos_net_agg['trans_year'] == '2021') & (df_pos_net_agg['gen_cat'] == 'Net'), 'trans_num'].sum()\n",
    "result_2021 = pos_2021 / net_2021 - 1\n",
    "print(\" POS has {}% more purchases compared to Net in 2021\".format(100*result_2021.round(2)))"
   ]
  },
  {
   "cell_type": "markdown",
   "id": "97c0a04e",
   "metadata": {
    "id": "97c0a04e"
   },
   "source": [
    "In terms of volume or number of transactions, POS or onsite transaction far exceeds number of Net or online transaction (more than 1.5x)"
   ]
  },
  {
   "cell_type": "markdown",
   "id": "3f534c6a",
   "metadata": {
    "id": "3f534c6a"
   },
   "source": [
    "# Average Spent per Transaction"
   ]
  },
  {
   "cell_type": "code",
   "execution_count": 255,
   "id": "7bb9d047",
   "metadata": {
    "id": "7bb9d047"
   },
   "outputs": [],
   "source": [
    "average_spent_per_category = df.groupby(['trans_year', 'gen_cat'])['amt'].mean().reset_index()"
   ]
  },
  {
   "cell_type": "code",
   "execution_count": 256,
   "id": "e1cd87d3",
   "metadata": {
    "id": "e1cd87d3"
   },
   "outputs": [
    {
     "data": {
      "image/png": "[encoded data removed]",
      "text/plain": [
       "<Figure size 1000x600 with 1 Axes>"
      ]
     },
     "metadata": {},
     "output_type": "display_data"
    }
   ],
   "source": [
    "plt.figure(figsize=(10, 6))\n",
    "bar_colors = ['#9468AC', '#FECE6B']\n",
    "\n",
    "sns.barplot(x='trans_year', y='amt', hue='gen_cat', data=average_spent_per_category[average_spent_per_category['gen_cat']!='Other'], palette=bar_colors)\n",
    "\n",
    "#set_chart_properties(\"Average Transaction Spent per Category (2020 vs. 2021)\",\"Year\",\"Spent\",\"Category\")\n",
    "\n",
    "plt.show()"
   ]
  },
  {
   "cell_type": "code",
   "execution_count": 257,
   "id": "7e1a7e35",
   "metadata": {
    "id": "7e1a7e35"
   },
   "outputs": [
    {
     "data": {
      "text/html": [
       "<div>\n",
       "<style scoped>\n",
       "    .dataframe tbody tr th:only-of-type {\n",
       "        vertical-align: middle;\n",
       "    }\n",
       "\n",
       "    .dataframe tbody tr th {\n",
       "        vertical-align: top;\n",
       "    }\n",
       "\n",
       "    .dataframe thead th {\n",
       "        text-align: right;\n",
       "    }\n",
       "</style>\n",
       "<table border=\"1\" class=\"dataframe\">\n",
       "  <thead>\n",
       "    <tr style=\"text-align: right;\">\n",
       "      <th></th>\n",
       "      <th>trans_year</th>\n",
       "      <th>gen_cat</th>\n",
       "      <th>amt</th>\n",
       "    </tr>\n",
       "  </thead>\n",
       "  <tbody>\n",
       "    <tr>\n",
       "      <th>0</th>\n",
       "      <td>2020</td>\n",
       "      <td>Net</td>\n",
       "      <td>98.451862</td>\n",
       "    </tr>\n",
       "    <tr>\n",
       "      <th>1</th>\n",
       "      <td>2020</td>\n",
       "      <td>Other</td>\n",
       "      <td>64.104438</td>\n",
       "    </tr>\n",
       "    <tr>\n",
       "      <th>2</th>\n",
       "      <td>2020</td>\n",
       "      <td>POS</td>\n",
       "      <td>72.326088</td>\n",
       "    </tr>\n",
       "    <tr>\n",
       "      <th>3</th>\n",
       "      <td>2021</td>\n",
       "      <td>Net</td>\n",
       "      <td>107.352856</td>\n",
       "    </tr>\n",
       "    <tr>\n",
       "      <th>4</th>\n",
       "      <td>2021</td>\n",
       "      <td>Other</td>\n",
       "      <td>64.984150</td>\n",
       "    </tr>\n",
       "    <tr>\n",
       "      <th>5</th>\n",
       "      <td>2021</td>\n",
       "      <td>POS</td>\n",
       "      <td>74.729534</td>\n",
       "    </tr>\n",
       "  </tbody>\n",
       "</table>\n",
       "</div>"
      ],
      "text/plain": [
       "  trans_year gen_cat         amt\n",
       "0       2020     Net   98.451862\n",
       "1       2020   Other   64.104438\n",
       "2       2020     POS   72.326088\n",
       "3       2021     Net  107.352856\n",
       "4       2021   Other   64.984150\n",
       "5       2021     POS   74.729534"
      ]
     },
     "execution_count": 257,
     "metadata": {},
     "output_type": "execute_result"
    }
   ],
   "source": [
    "average_spent_per_category"
   ]
  },
  {
   "cell_type": "code",
   "execution_count": 258,
   "id": "def09222",
   "metadata": {
    "id": "def09222"
   },
   "outputs": [
    {
     "name": "stdout",
     "output_type": "stream",
     "text": [
      "Customers are spending 36.0% higher on Net purchases vs POS in 2020\n"
     ]
    }
   ],
   "source": [
    "pos_2020 = average_spent_per_category.loc[(average_spent_per_category['trans_year'] == '2020') & (average_spent_per_category['gen_cat'] == 'POS'), 'amt'].sum()\n",
    "net_2020 = average_spent_per_category.loc[(average_spent_per_category['trans_year'] == '2020') & (average_spent_per_category['gen_cat'] == 'Net'), 'amt'].sum()\n",
    "result_2020 = net_2020/pos_2020 - 1\n",
    "print(\"Customers are spending {}% higher on Net purchases vs POS in 2020\".format(100*result_2020.round(2)))"
   ]
  },
  {
   "cell_type": "code",
   "execution_count": 259,
   "id": "d0bf4fac",
   "metadata": {
    "id": "d0bf4fac"
   },
   "outputs": [
    {
     "name": "stdout",
     "output_type": "stream",
     "text": [
      "Customers are spending 44.0% higher on Net purchases vs POS in 2021\n"
     ]
    }
   ],
   "source": [
    "pos_2021 = average_spent_per_category.loc[(average_spent_per_category['trans_year'] == '2021') & (average_spent_per_category['gen_cat'] == 'POS'), 'amt'].sum()\n",
    "net_2021 = average_spent_per_category.loc[(average_spent_per_category['trans_year'] == '2021') & (average_spent_per_category['gen_cat'] == 'Net'), 'amt'].sum()\n",
    "result_2021 = net_2021/pos_2021 - 1\n",
    "print(\"Customers are spending {}% higher on Net purchases vs POS in 2021\".format(100*result_2021.round(2)))"
   ]
  },
  {
   "cell_type": "markdown",
   "id": "a0d6e0a2",
   "metadata": {
    "id": "a0d6e0a2"
   },
   "source": [
    "In terms of spending, average spent per transaction for Net purchases are almost 40% higher compared to POS"
   ]
  },
  {
   "cell_type": "markdown",
   "id": "80945b20",
   "metadata": {
    "id": "80945b20"
   },
   "source": [
    "# Average Spent per Capita"
   ]
  },
  {
   "cell_type": "code",
   "execution_count": 260,
   "id": "353e212b",
   "metadata": {
    "id": "353e212b"
   },
   "outputs": [],
   "source": [
    "spent_per_capita = df.groupby(['trans_year', 'gen_cat']).agg({'amt':'sum','acct_num':'nunique'}).reset_index()\n",
    "spent_per_capita.rename(columns={'amt':'total_amount','acct_num':'unique_cust'}, inplace=True)"
   ]
  },
  {
   "cell_type": "code",
   "execution_count": 261,
   "id": "e969e252",
   "metadata": {
    "id": "e969e252"
   },
   "outputs": [],
   "source": [
    "spent_per_capita['amt_per_cust'] = spent_per_capita['total_amount']/spent_per_capita['unique_cust']"
   ]
  },
  {
   "cell_type": "code",
   "execution_count": 262,
   "id": "ac28e636",
   "metadata": {
    "id": "ac28e636"
   },
   "outputs": [
    {
     "data": {
      "text/html": [
       "<div>\n",
       "<style scoped>\n",
       "    .dataframe tbody tr th:only-of-type {\n",
       "        vertical-align: middle;\n",
       "    }\n",
       "\n",
       "    .dataframe tbody tr th {\n",
       "        vertical-align: top;\n",
       "    }\n",
       "\n",
       "    .dataframe thead th {\n",
       "        text-align: right;\n",
       "    }\n",
       "</style>\n",
       "<table border=\"1\" class=\"dataframe\">\n",
       "  <thead>\n",
       "    <tr style=\"text-align: right;\">\n",
       "      <th></th>\n",
       "      <th>trans_year</th>\n",
       "      <th>gen_cat</th>\n",
       "      <th>total_amount</th>\n",
       "      <th>unique_cust</th>\n",
       "      <th>amt_per_cust</th>\n",
       "    </tr>\n",
       "  </thead>\n",
       "  <tbody>\n",
       "    <tr>\n",
       "      <th>0</th>\n",
       "      <td>2020</td>\n",
       "      <td>Net</td>\n",
       "      <td>490782.53</td>\n",
       "      <td>73</td>\n",
       "      <td>6723.048356</td>\n",
       "    </tr>\n",
       "    <tr>\n",
       "      <th>1</th>\n",
       "      <td>2020</td>\n",
       "      <td>Other</td>\n",
       "      <td>2244680.99</td>\n",
       "      <td>72</td>\n",
       "      <td>31176.124861</td>\n",
       "    </tr>\n",
       "    <tr>\n",
       "      <th>2</th>\n",
       "      <td>2020</td>\n",
       "      <td>POS</td>\n",
       "      <td>953113.19</td>\n",
       "      <td>73</td>\n",
       "      <td>13056.345068</td>\n",
       "    </tr>\n",
       "    <tr>\n",
       "      <th>3</th>\n",
       "      <td>2021</td>\n",
       "      <td>Net</td>\n",
       "      <td>467951.10</td>\n",
       "      <td>82</td>\n",
       "      <td>5706.720732</td>\n",
       "    </tr>\n",
       "    <tr>\n",
       "      <th>4</th>\n",
       "      <td>2021</td>\n",
       "      <td>Other</td>\n",
       "      <td>2003721.27</td>\n",
       "      <td>82</td>\n",
       "      <td>24435.625244</td>\n",
       "    </tr>\n",
       "    <tr>\n",
       "      <th>5</th>\n",
       "      <td>2021</td>\n",
       "      <td>POS</td>\n",
       "      <td>868955.02</td>\n",
       "      <td>83</td>\n",
       "      <td>10469.337590</td>\n",
       "    </tr>\n",
       "  </tbody>\n",
       "</table>\n",
       "</div>"
      ],
      "text/plain": [
       "  trans_year gen_cat  total_amount  unique_cust  amt_per_cust\n",
       "0       2020     Net     490782.53           73   6723.048356\n",
       "1       2020   Other    2244680.99           72  31176.124861\n",
       "2       2020     POS     953113.19           73  13056.345068\n",
       "3       2021     Net     467951.10           82   5706.720732\n",
       "4       2021   Other    2003721.27           82  24435.625244\n",
       "5       2021     POS     868955.02           83  10469.337590"
      ]
     },
     "execution_count": 262,
     "metadata": {},
     "output_type": "execute_result"
    }
   ],
   "source": [
    "spent_per_capita"
   ]
  },
  {
   "cell_type": "code",
   "execution_count": 263,
   "id": "46f4352f",
   "metadata": {
    "id": "46f4352f"
   },
   "outputs": [],
   "source": [
    "# Calculate quartiles and IQR\n",
    "Q1 = df['amt'].quantile(0.25)\n",
    "Q3 = df['amt'].quantile(0.75)\n",
    "IQR = Q3 - Q1\n",
    "\n",
    "# Define the lower and upper bounds for identifying outliers\n",
    "lower_bound = Q1 - 1.5 * IQR\n",
    "upper_bound = Q3 + 1.5 * IQR\n",
    "\n",
    "# Remove outliers and create a new DataFrame\n",
    "df_no_outliers = df[(df['amt'] >= lower_bound) & (df['amt'] <= upper_bound)]"
   ]
  },
  {
   "cell_type": "code",
   "execution_count": 264,
   "id": "c43efec8",
   "metadata": {
    "id": "c43efec8"
   },
   "outputs": [],
   "source": [
    "spent_per_capita = df_no_outliers.groupby(['trans_year', 'gen_cat']).agg({'amt':'sum','acct_num':'nunique'}).reset_index()\n",
    "spent_per_capita.rename(columns={'amt':'total_amount','acct_num':'unique_cust'}, inplace=True)"
   ]
  },
  {
   "cell_type": "code",
   "execution_count": 265,
   "id": "4215d680",
   "metadata": {
    "id": "4215d680"
   },
   "outputs": [],
   "source": [
    "spent_per_capita['amt_per_cust'] = spent_per_capita['total_amount']/spent_per_capita['unique_cust']"
   ]
  },
  {
   "cell_type": "code",
   "execution_count": 266,
   "id": "c13d4edb",
   "metadata": {
    "id": "c13d4edb"
   },
   "outputs": [
    {
     "data": {
      "text/html": [
       "<div>\n",
       "<style scoped>\n",
       "    .dataframe tbody tr th:only-of-type {\n",
       "        vertical-align: middle;\n",
       "    }\n",
       "\n",
       "    .dataframe tbody tr th {\n",
       "        vertical-align: top;\n",
       "    }\n",
       "\n",
       "    .dataframe thead th {\n",
       "        text-align: right;\n",
       "    }\n",
       "</style>\n",
       "<table border=\"1\" class=\"dataframe\">\n",
       "  <thead>\n",
       "    <tr style=\"text-align: right;\">\n",
       "      <th></th>\n",
       "      <th>trans_year</th>\n",
       "      <th>gen_cat</th>\n",
       "      <th>total_amount</th>\n",
       "      <th>unique_cust</th>\n",
       "      <th>amt_per_cust</th>\n",
       "    </tr>\n",
       "  </thead>\n",
       "  <tbody>\n",
       "    <tr>\n",
       "      <th>0</th>\n",
       "      <td>2020</td>\n",
       "      <td>Net</td>\n",
       "      <td>160388.59</td>\n",
       "      <td>67</td>\n",
       "      <td>2393.859552</td>\n",
       "    </tr>\n",
       "    <tr>\n",
       "      <th>2</th>\n",
       "      <td>2020</td>\n",
       "      <td>POS</td>\n",
       "      <td>575667.86</td>\n",
       "      <td>68</td>\n",
       "      <td>8465.703824</td>\n",
       "    </tr>\n",
       "    <tr>\n",
       "      <th>3</th>\n",
       "      <td>2021</td>\n",
       "      <td>Net</td>\n",
       "      <td>138990.63</td>\n",
       "      <td>67</td>\n",
       "      <td>2074.487015</td>\n",
       "    </tr>\n",
       "    <tr>\n",
       "      <th>5</th>\n",
       "      <td>2021</td>\n",
       "      <td>POS</td>\n",
       "      <td>497291.47</td>\n",
       "      <td>71</td>\n",
       "      <td>7004.105211</td>\n",
       "    </tr>\n",
       "  </tbody>\n",
       "</table>\n",
       "</div>"
      ],
      "text/plain": [
       "  trans_year gen_cat  total_amount  unique_cust  amt_per_cust\n",
       "0       2020     Net     160388.59           67   2393.859552\n",
       "2       2020     POS     575667.86           68   8465.703824\n",
       "3       2021     Net     138990.63           67   2074.487015\n",
       "5       2021     POS     497291.47           71   7004.105211"
      ]
     },
     "execution_count": 266,
     "metadata": {},
     "output_type": "execute_result"
    }
   ],
   "source": [
    "spent_per_capita[spent_per_capita['gen_cat']!='Other']"
   ]
  },
  {
   "cell_type": "code",
   "execution_count": 267,
   "id": "be6fc917",
   "metadata": {
    "id": "be6fc917"
   },
   "outputs": [
    {
     "data": {
      "image/png": "[encoded data removed]",
      "text/plain": [
       "<Figure size 1000x600 with 1 Axes>"
      ]
     },
     "metadata": {},
     "output_type": "display_data"
    }
   ],
   "source": [
    "plt.figure(figsize=(10, 6))\n",
    "bar_colors = ['#9468AC', '#FECE6B']\n",
    "\n",
    "sns.barplot(x='trans_year', y='amt_per_cust', hue='gen_cat', data=spent_per_capita[spent_per_capita['gen_cat']!='Other'], palette=bar_colors)\n",
    "\n",
    "#set_chart_properties(\"Average Spent per Capita (2020 vs. 2021)\",\"Year\",\"Spent\",\"Category\")\n",
    "\n",
    "plt.show()"
   ]
  },
  {
   "cell_type": "markdown",
   "id": "32c2af4e",
   "metadata": {
    "id": "32c2af4e"
   },
   "source": [
    "# Spend Analysis: Net vs. POS"
   ]
  },
  {
   "cell_type": "markdown",
   "id": "5db39f6b",
   "metadata": {
    "id": "5db39f6b"
   },
   "source": [
    "Spent Per Transaction (Net > POS)\n",
    "- Net custs tend to spend more money each time they make a transaction, which means that when they make a purchase, the amount spent is higher on average compared to POS custs This could imply that Net custs makes larger individual purchases or transactions.\n",
    "<br>\n",
    "<br>\n",
    "Spend per Capita (POS > Net)\n",
    "- This means that, on average, each person in POS group spends more money over a certain period than each person in Net group. This could be due to higher frequency of transactions (see trans graph).\n",
    "<br>\n",
    "<br>\n",
    "Hypothesis:\n",
    "- Net may represent customers who make occasional but substantial purchases, such as buying expensive items or services.\n",
    "- POS may consist of a customer base who make more frequent but smaller purchases.\n",
    "<br>\n",
    "<br>\n",
    "For the next steps, we need to gain deeper insights and understand underlying factors that can help the business tailor their marketing strategies, product offerings, and customer engagement efforts to better serve the unique preferences and behaviors of each group"
   ]
  },
  {
   "cell_type": "markdown",
   "id": "267ed285",
   "metadata": {
    "id": "267ed285"
   },
   "source": [
    "## Checking Significant Difference"
   ]
  },
  {
   "cell_type": "code",
   "execution_count": 268,
   "id": "2d0bff37",
   "metadata": {
    "id": "2d0bff37"
   },
   "outputs": [
    {
     "name": "stdout",
     "output_type": "stream",
     "text": [
      "The difference between groups is significant (p-value: 1.8909819625518947e-07)\n"
     ]
    }
   ],
   "source": [
    "import scipy.stats as stats\n",
    "\n",
    "# Perform the Mann-Whitney U test\n",
    "U_statistic, p_value = stats.mannwhitneyu(df_pos_net[df_pos_net['gen_cat']=='POS']['amt'], df_pos_net[df_pos_net['gen_cat']=='Net']['amt'], alternative='two-sided')\n",
    "\n",
    "alpha = 0.05\n",
    "if p_value < alpha:\n",
    "    print(f'The difference between groups is significant (p-value: {p_value})')\n",
    "else:\n",
    "    print(f'The difference between groups is not significant (p-value: {p_value})')"
   ]
  },
  {
   "cell_type": "markdown",
   "id": "232b7793",
   "metadata": {
    "id": "232b7793"
   },
   "source": [
    "Since p value < 0.05 we can say that the difference between Net v. POS is statistically meaningful and warrants further investigation\n",
    "\n",
    "** note: mannwhitney for non-normal groups"
   ]
  },
  {
   "cell_type": "markdown",
   "id": "011bee48",
   "metadata": {
    "id": "011bee48"
   },
   "source": [
    "# RFM Analysis"
   ]
  },
  {
   "cell_type": "markdown",
   "id": "1f92b607",
   "metadata": {
    "id": "1f92b607"
   },
   "source": [
    "For a sample size of 89 customers, it was considered starting with 3 bins for each RFM component, which would give you 3^3 = 27 segments. This provides a reasonable level of granularity without creating an overwhelming number of segments."
   ]
  },
  {
   "cell_type": "markdown",
   "id": "8215d781",
   "metadata": {
    "id": "8215d781"
   },
   "source": [
    "## Filtered to Net Customers"
   ]
  },
  {
   "cell_type": "code",
   "execution_count": 269,
   "id": "73ebc301",
   "metadata": {
    "id": "73ebc301"
   },
   "outputs": [],
   "source": [
    "df_net = df[df['gen_cat']=='Net']"
   ]
  },
  {
   "cell_type": "code",
   "execution_count": 270,
   "id": "fd182b55",
   "metadata": {
    "id": "fd182b55"
   },
   "outputs": [
    {
     "data": {
      "text/html": [
       "<div>\n",
       "<style scoped>\n",
       "    .dataframe tbody tr th:only-of-type {\n",
       "        vertical-align: middle;\n",
       "    }\n",
       "\n",
       "    .dataframe tbody tr th {\n",
       "        vertical-align: top;\n",
       "    }\n",
       "\n",
       "    .dataframe thead th {\n",
       "        text-align: right;\n",
       "    }\n",
       "</style>\n",
       "<table border=\"1\" class=\"dataframe\">\n",
       "  <thead>\n",
       "    <tr style=\"text-align: right;\">\n",
       "      <th></th>\n",
       "      <th>cc_num</th>\n",
       "      <th>city_pop</th>\n",
       "      <th>dob</th>\n",
       "      <th>unix_time</th>\n",
       "      <th>amt</th>\n",
       "      <th>age</th>\n",
       "      <th>is_ncr</th>\n",
       "    </tr>\n",
       "  </thead>\n",
       "  <tbody>\n",
       "    <tr>\n",
       "      <th>count</th>\n",
       "      <td>9.344000e+03</td>\n",
       "      <td>9.344000e+03</td>\n",
       "      <td>3774</td>\n",
       "      <td>9344</td>\n",
       "      <td>9344.000000</td>\n",
       "      <td>3774.000000</td>\n",
       "      <td>9344.000000</td>\n",
       "    </tr>\n",
       "    <tr>\n",
       "      <th>mean</th>\n",
       "      <td>3.847142e+17</td>\n",
       "      <td>4.968969e+05</td>\n",
       "      <td>1955-01-21 21:56:45.405405440</td>\n",
       "      <td>2020-12-26 19:16:54.106164480</td>\n",
       "      <td>102.604198</td>\n",
       "      <td>65.484367</td>\n",
       "      <td>0.165240</td>\n",
       "    </tr>\n",
       "    <tr>\n",
       "      <th>min</th>\n",
       "      <td>6.049060e+10</td>\n",
       "      <td>4.104100e+04</td>\n",
       "      <td>1930-02-04 00:00:00</td>\n",
       "      <td>2020-01-01 08:54:01</td>\n",
       "      <td>1.000000</td>\n",
       "      <td>49.000000</td>\n",
       "      <td>0.000000</td>\n",
       "    </tr>\n",
       "    <tr>\n",
       "      <th>25%</th>\n",
       "      <td>3.800000e+13</td>\n",
       "      <td>1.338930e+05</td>\n",
       "      <td>1949-05-12 00:00:00</td>\n",
       "      <td>2020-07-10 09:44:41</td>\n",
       "      <td>5.190000</td>\n",
       "      <td>56.000000</td>\n",
       "      <td>0.000000</td>\n",
       "    </tr>\n",
       "    <tr>\n",
       "      <th>50%</th>\n",
       "      <td>3.520000e+15</td>\n",
       "      <td>2.330400e+05</td>\n",
       "      <td>1957-05-04 00:00:00</td>\n",
       "      <td>2020-12-18 07:00:38.500000</td>\n",
       "      <td>11.980000</td>\n",
       "      <td>64.000000</td>\n",
       "      <td>0.000000</td>\n",
       "    </tr>\n",
       "    <tr>\n",
       "      <th>75%</th>\n",
       "      <td>4.620000e+15</td>\n",
       "      <td>3.537670e+05</td>\n",
       "      <td>1965-11-10 00:00:00</td>\n",
       "      <td>2021-06-21 13:36:16.750000128</td>\n",
       "      <td>90.820000</td>\n",
       "      <td>72.000000</td>\n",
       "      <td>0.000000</td>\n",
       "    </tr>\n",
       "    <tr>\n",
       "      <th>max</th>\n",
       "      <td>4.830000e+18</td>\n",
       "      <td>2.308800e+07</td>\n",
       "      <td>1970-07-02 00:00:00</td>\n",
       "      <td>2021-12-06 11:56:43</td>\n",
       "      <td>2435.600000</td>\n",
       "      <td>91.000000</td>\n",
       "      <td>1.000000</td>\n",
       "    </tr>\n",
       "    <tr>\n",
       "      <th>std</th>\n",
       "      <td>1.244153e+18</td>\n",
       "      <td>2.165102e+06</td>\n",
       "      <td>NaN</td>\n",
       "      <td>NaN</td>\n",
       "      <td>222.082999</td>\n",
       "      <td>11.354918</td>\n",
       "      <td>0.371417</td>\n",
       "    </tr>\n",
       "  </tbody>\n",
       "</table>\n",
       "</div>"
      ],
      "text/plain": [
       "             cc_num      city_pop                            dob  \\\n",
       "count  9.344000e+03  9.344000e+03                           3774   \n",
       "mean   3.847142e+17  4.968969e+05  1955-01-21 21:56:45.405405440   \n",
       "min    6.049060e+10  4.104100e+04            1930-02-04 00:00:00   \n",
       "25%    3.800000e+13  1.338930e+05            1949-05-12 00:00:00   \n",
       "50%    3.520000e+15  2.330400e+05            1957-05-04 00:00:00   \n",
       "75%    4.620000e+15  3.537670e+05            1965-11-10 00:00:00   \n",
       "max    4.830000e+18  2.308800e+07            1970-07-02 00:00:00   \n",
       "std    1.244153e+18  2.165102e+06                            NaN   \n",
       "\n",
       "                           unix_time          amt          age       is_ncr  \n",
       "count                           9344  9344.000000  3774.000000  9344.000000  \n",
       "mean   2020-12-26 19:16:54.106164480   102.604198    65.484367     0.165240  \n",
       "min              2020-01-01 08:54:01     1.000000    49.000000     0.000000  \n",
       "25%              2020-07-10 09:44:41     5.190000    56.000000     0.000000  \n",
       "50%       2020-12-18 07:00:38.500000    11.980000    64.000000     0.000000  \n",
       "75%    2021-06-21 13:36:16.750000128    90.820000    72.000000     0.000000  \n",
       "max              2021-12-06 11:56:43  2435.600000    91.000000     1.000000  \n",
       "std                              NaN   222.082999    11.354918     0.371417  "
      ]
     },
     "execution_count": 270,
     "metadata": {},
     "output_type": "execute_result"
    }
   ],
   "source": [
    "df_net.describe()"
   ]
  },
  {
   "cell_type": "code",
   "execution_count": 271,
   "id": "ad453361",
   "metadata": {
    "id": "ad453361"
   },
   "outputs": [
    {
     "name": "stdout",
     "output_type": "stream",
     "text": [
      "<class 'pandas.core.frame.DataFrame'>\n",
      "Index: 9344 entries, 0 to 99988\n",
      "Data columns (total 17 columns):\n",
      " #   Column       Non-Null Count  Dtype         \n",
      "---  ------       --------------  -----         \n",
      " 0   cc_num       9344 non-null   float64       \n",
      " 1   gender       9344 non-null   object        \n",
      " 2   city         9344 non-null   object        \n",
      " 3   city_pop     9344 non-null   int64         \n",
      " 4   job          9344 non-null   object        \n",
      " 5   dob          3774 non-null   datetime64[ns]\n",
      " 6   acct_num     9344 non-null   object        \n",
      " 7   trans_num    9344 non-null   object        \n",
      " 8   unix_time    9344 non-null   datetime64[ns]\n",
      " 9   category     9344 non-null   object        \n",
      " 10  amt          9344 non-null   float64       \n",
      " 11  age          3774 non-null   float64       \n",
      " 12  trans_date   9344 non-null   object        \n",
      " 13  trans_year   9344 non-null   object        \n",
      " 14  trans_month  9344 non-null   object        \n",
      " 15  is_ncr       9344 non-null   int64         \n",
      " 16  gen_cat      9344 non-null   object        \n",
      "dtypes: datetime64[ns](2), float64(3), int64(2), object(10)\n",
      "memory usage: 1.3+ MB\n"
     ]
    }
   ],
   "source": [
    "df_net.info()"
   ]
  },
  {
   "cell_type": "markdown",
   "id": "7fdc1632",
   "metadata": {
    "id": "7fdc1632"
   },
   "source": [
    "## Net: Rule based-RFM"
   ]
  },
  {
   "cell_type": "code",
   "execution_count": 272,
   "id": "4abe8b64",
   "metadata": {
    "id": "4abe8b64"
   },
   "outputs": [
    {
     "data": {
      "text/plain": [
       "Timestamp('2021-12-07 11:56:43')"
      ]
     },
     "execution_count": 272,
     "metadata": {},
     "output_type": "execute_result"
    }
   ],
   "source": [
    "from datetime import datetime, timedelta\n",
    "\n",
    "snapshot_date = max(df_net['unix_time']) + timedelta(days=1)\n",
    "snapshot_date"
   ]
  },
  {
   "cell_type": "code",
   "execution_count": 273,
   "id": "44fa3e40",
   "metadata": {
    "id": "44fa3e40"
   },
   "outputs": [],
   "source": [
    "# Aggregate data on a 'acct_num' level and compute rfm\n",
    "df_net_agg = df_net.groupby(['acct_num']).agg({\n",
    "    'unix_time': lambda x: (snapshot_date - x.max()).days,\n",
    "    'trans_num': 'count',\n",
    "    'amt': ['sum']\n",
    "})\n",
    "df_net_agg.columns = ['Recency','Frequency','Monetary']"
   ]
  },
  {
   "cell_type": "code",
   "execution_count": 274,
   "id": "956a522b",
   "metadata": {
    "id": "956a522b"
   },
   "outputs": [
    {
     "data": {
      "text/html": [
       "<div>\n",
       "<style scoped>\n",
       "    .dataframe tbody tr th:only-of-type {\n",
       "        vertical-align: middle;\n",
       "    }\n",
       "\n",
       "    .dataframe tbody tr th {\n",
       "        vertical-align: top;\n",
       "    }\n",
       "\n",
       "    .dataframe thead th {\n",
       "        text-align: right;\n",
       "    }\n",
       "</style>\n",
       "<table border=\"1\" class=\"dataframe\">\n",
       "  <thead>\n",
       "    <tr style=\"text-align: right;\">\n",
       "      <th></th>\n",
       "      <th>Recency</th>\n",
       "      <th>Frequency</th>\n",
       "      <th>Monetary</th>\n",
       "    </tr>\n",
       "    <tr>\n",
       "      <th>acct_num</th>\n",
       "      <th></th>\n",
       "      <th></th>\n",
       "      <th></th>\n",
       "    </tr>\n",
       "  </thead>\n",
       "  <tbody>\n",
       "    <tr>\n",
       "      <th>124000000000</th>\n",
       "      <td>2</td>\n",
       "      <td>191</td>\n",
       "      <td>17534.76</td>\n",
       "    </tr>\n",
       "    <tr>\n",
       "      <th>138000000000</th>\n",
       "      <td>377</td>\n",
       "      <td>5</td>\n",
       "      <td>4514.41</td>\n",
       "    </tr>\n",
       "    <tr>\n",
       "      <th>169000000000</th>\n",
       "      <td>117</td>\n",
       "      <td>2</td>\n",
       "      <td>1591.51</td>\n",
       "    </tr>\n",
       "    <tr>\n",
       "      <th>170000000000</th>\n",
       "      <td>2</td>\n",
       "      <td>204</td>\n",
       "      <td>13218.10</td>\n",
       "    </tr>\n",
       "    <tr>\n",
       "      <th>201000000000</th>\n",
       "      <td>16</td>\n",
       "      <td>71</td>\n",
       "      <td>12037.09</td>\n",
       "    </tr>\n",
       "  </tbody>\n",
       "</table>\n",
       "</div>"
      ],
      "text/plain": [
       "              Recency  Frequency  Monetary\n",
       "acct_num                                  \n",
       "124000000000        2        191  17534.76\n",
       "138000000000      377          5   4514.41\n",
       "169000000000      117          2   1591.51\n",
       "170000000000        2        204  13218.10\n",
       "201000000000       16         71  12037.09"
      ]
     },
     "execution_count": 274,
     "metadata": {},
     "output_type": "execute_result"
    }
   ],
   "source": [
    "df_net_agg.head()"
   ]
  },
  {
   "cell_type": "code",
   "execution_count": 275,
   "id": "a65e916b",
   "metadata": {
    "id": "a65e916b"
   },
   "outputs": [
    {
     "data": {
      "text/plain": [
       "17"
      ]
     },
     "execution_count": 275,
     "metadata": {},
     "output_type": "execute_result"
    }
   ],
   "source": [
    "# Check 1 day recency count\n",
    "df_net[df_net['unix_time']>='2021-12-06 00:00:00']['acct_num'].nunique()"
   ]
  },
  {
   "cell_type": "code",
   "execution_count": 276,
   "id": "267a6caa",
   "metadata": {
    "id": "267a6caa"
   },
   "outputs": [
    {
     "data": {
      "text/plain": [
       "Recency          17.00\n",
       "Frequency      2743.00\n",
       "Monetary     262589.43\n",
       "dtype: float64"
      ]
     },
     "execution_count": 276,
     "metadata": {},
     "output_type": "execute_result"
    }
   ],
   "source": [
    "df_net_agg[df_net_agg['Recency']==1].sum()"
   ]
  },
  {
   "cell_type": "markdown",
   "id": "865a3605",
   "metadata": {
    "id": "865a3605"
   },
   "source": [
    "### Recency"
   ]
  },
  {
   "cell_type": "code",
   "execution_count": 277,
   "id": "5b40688e",
   "metadata": {
    "id": "5b40688e"
   },
   "outputs": [
    {
     "data": {
      "text/html": [
       "<div>\n",
       "<style scoped>\n",
       "    .dataframe tbody tr th:only-of-type {\n",
       "        vertical-align: middle;\n",
       "    }\n",
       "\n",
       "    .dataframe tbody tr th {\n",
       "        vertical-align: top;\n",
       "    }\n",
       "\n",
       "    .dataframe thead th {\n",
       "        text-align: right;\n",
       "    }\n",
       "</style>\n",
       "<table border=\"1\" class=\"dataframe\">\n",
       "  <thead>\n",
       "    <tr style=\"text-align: right;\">\n",
       "      <th></th>\n",
       "      <th>Recency</th>\n",
       "      <th>Frequency</th>\n",
       "      <th>Monetary</th>\n",
       "      <th>R</th>\n",
       "    </tr>\n",
       "    <tr>\n",
       "      <th>acct_num</th>\n",
       "      <th></th>\n",
       "      <th></th>\n",
       "      <th></th>\n",
       "      <th></th>\n",
       "    </tr>\n",
       "  </thead>\n",
       "  <tbody>\n",
       "    <tr>\n",
       "      <th>124000000000</th>\n",
       "      <td>2</td>\n",
       "      <td>191</td>\n",
       "      <td>17534.76</td>\n",
       "      <td>3</td>\n",
       "    </tr>\n",
       "    <tr>\n",
       "      <th>138000000000</th>\n",
       "      <td>377</td>\n",
       "      <td>5</td>\n",
       "      <td>4514.41</td>\n",
       "      <td>1</td>\n",
       "    </tr>\n",
       "    <tr>\n",
       "      <th>169000000000</th>\n",
       "      <td>117</td>\n",
       "      <td>2</td>\n",
       "      <td>1591.51</td>\n",
       "      <td>1</td>\n",
       "    </tr>\n",
       "    <tr>\n",
       "      <th>170000000000</th>\n",
       "      <td>2</td>\n",
       "      <td>204</td>\n",
       "      <td>13218.10</td>\n",
       "      <td>3</td>\n",
       "    </tr>\n",
       "    <tr>\n",
       "      <th>201000000000</th>\n",
       "      <td>16</td>\n",
       "      <td>71</td>\n",
       "      <td>12037.09</td>\n",
       "      <td>1</td>\n",
       "    </tr>\n",
       "  </tbody>\n",
       "</table>\n",
       "</div>"
      ],
      "text/plain": [
       "              Recency  Frequency  Monetary  R\n",
       "acct_num                                     \n",
       "124000000000        2        191  17534.76  3\n",
       "138000000000      377          5   4514.41  1\n",
       "169000000000      117          2   1591.51  1\n",
       "170000000000        2        204  13218.10  3\n",
       "201000000000       16         71  12037.09  1"
      ]
     },
     "execution_count": 277,
     "metadata": {},
     "output_type": "execute_result"
    }
   ],
   "source": [
    "recency_groups = pd.qcut(df_net_agg['Recency'],\n",
    "                   q=3,\n",
    "                   labels=[3, 2, 1])\n",
    "\n",
    "df_net_agg = df_net_agg.assign(R=recency_groups.values)\n",
    "df_net_agg.head()"
   ]
  },
  {
   "cell_type": "markdown",
   "id": "f3958bc3",
   "metadata": {
    "id": "f3958bc3"
   },
   "source": [
    "### Frequency"
   ]
  },
  {
   "cell_type": "code",
   "execution_count": 278,
   "id": "6a4b6fe6",
   "metadata": {
    "id": "6a4b6fe6"
   },
   "outputs": [
    {
     "data": {
      "text/html": [
       "<div>\n",
       "<style scoped>\n",
       "    .dataframe tbody tr th:only-of-type {\n",
       "        vertical-align: middle;\n",
       "    }\n",
       "\n",
       "    .dataframe tbody tr th {\n",
       "        vertical-align: top;\n",
       "    }\n",
       "\n",
       "    .dataframe thead th {\n",
       "        text-align: right;\n",
       "    }\n",
       "</style>\n",
       "<table border=\"1\" class=\"dataframe\">\n",
       "  <thead>\n",
       "    <tr style=\"text-align: right;\">\n",
       "      <th></th>\n",
       "      <th>Recency</th>\n",
       "      <th>Frequency</th>\n",
       "      <th>Monetary</th>\n",
       "      <th>R</th>\n",
       "      <th>F</th>\n",
       "    </tr>\n",
       "    <tr>\n",
       "      <th>acct_num</th>\n",
       "      <th></th>\n",
       "      <th></th>\n",
       "      <th></th>\n",
       "      <th></th>\n",
       "      <th></th>\n",
       "    </tr>\n",
       "  </thead>\n",
       "  <tbody>\n",
       "    <tr>\n",
       "      <th>124000000000</th>\n",
       "      <td>2</td>\n",
       "      <td>191</td>\n",
       "      <td>17534.76</td>\n",
       "      <td>3</td>\n",
       "      <td>3</td>\n",
       "    </tr>\n",
       "    <tr>\n",
       "      <th>138000000000</th>\n",
       "      <td>377</td>\n",
       "      <td>5</td>\n",
       "      <td>4514.41</td>\n",
       "      <td>1</td>\n",
       "      <td>1</td>\n",
       "    </tr>\n",
       "    <tr>\n",
       "      <th>169000000000</th>\n",
       "      <td>117</td>\n",
       "      <td>2</td>\n",
       "      <td>1591.51</td>\n",
       "      <td>1</td>\n",
       "      <td>1</td>\n",
       "    </tr>\n",
       "    <tr>\n",
       "      <th>170000000000</th>\n",
       "      <td>2</td>\n",
       "      <td>204</td>\n",
       "      <td>13218.10</td>\n",
       "      <td>3</td>\n",
       "      <td>3</td>\n",
       "    </tr>\n",
       "    <tr>\n",
       "      <th>201000000000</th>\n",
       "      <td>16</td>\n",
       "      <td>71</td>\n",
       "      <td>12037.09</td>\n",
       "      <td>1</td>\n",
       "      <td>1</td>\n",
       "    </tr>\n",
       "  </tbody>\n",
       "</table>\n",
       "</div>"
      ],
      "text/plain": [
       "              Recency  Frequency  Monetary  R  F\n",
       "acct_num                                        \n",
       "124000000000        2        191  17534.76  3  3\n",
       "138000000000      377          5   4514.41  1  1\n",
       "169000000000      117          2   1591.51  1  1\n",
       "170000000000        2        204  13218.10  3  3\n",
       "201000000000       16         71  12037.09  1  1"
      ]
     },
     "execution_count": 278,
     "metadata": {},
     "output_type": "execute_result"
    }
   ],
   "source": [
    "frequency_groups = pd.qcut(df_net_agg['Frequency'],\n",
    "                   q=3,\n",
    "                   labels=[1,2,3])\n",
    "\n",
    "df_net_agg = df_net_agg.assign(F=recency_groups.values)\n",
    "df_net_agg.head()"
   ]
  },
  {
   "cell_type": "markdown",
   "id": "bd6541b3",
   "metadata": {
    "id": "bd6541b3"
   },
   "source": [
    "### Monetary"
   ]
  },
  {
   "cell_type": "code",
   "execution_count": 279,
   "id": "1b40f4eb",
   "metadata": {
    "id": "1b40f4eb"
   },
   "outputs": [
    {
     "data": {
      "text/html": [
       "<div>\n",
       "<style scoped>\n",
       "    .dataframe tbody tr th:only-of-type {\n",
       "        vertical-align: middle;\n",
       "    }\n",
       "\n",
       "    .dataframe tbody tr th {\n",
       "        vertical-align: top;\n",
       "    }\n",
       "\n",
       "    .dataframe thead th {\n",
       "        text-align: right;\n",
       "    }\n",
       "</style>\n",
       "<table border=\"1\" class=\"dataframe\">\n",
       "  <thead>\n",
       "    <tr style=\"text-align: right;\">\n",
       "      <th></th>\n",
       "      <th>Recency</th>\n",
       "      <th>Frequency</th>\n",
       "      <th>Monetary</th>\n",
       "      <th>R</th>\n",
       "      <th>F</th>\n",
       "      <th>M</th>\n",
       "    </tr>\n",
       "    <tr>\n",
       "      <th>acct_num</th>\n",
       "      <th></th>\n",
       "      <th></th>\n",
       "      <th></th>\n",
       "      <th></th>\n",
       "      <th></th>\n",
       "      <th></th>\n",
       "    </tr>\n",
       "  </thead>\n",
       "  <tbody>\n",
       "    <tr>\n",
       "      <th>124000000000</th>\n",
       "      <td>2</td>\n",
       "      <td>191</td>\n",
       "      <td>17534.76</td>\n",
       "      <td>3</td>\n",
       "      <td>3</td>\n",
       "      <td>3</td>\n",
       "    </tr>\n",
       "    <tr>\n",
       "      <th>138000000000</th>\n",
       "      <td>377</td>\n",
       "      <td>5</td>\n",
       "      <td>4514.41</td>\n",
       "      <td>1</td>\n",
       "      <td>1</td>\n",
       "      <td>1</td>\n",
       "    </tr>\n",
       "    <tr>\n",
       "      <th>169000000000</th>\n",
       "      <td>117</td>\n",
       "      <td>2</td>\n",
       "      <td>1591.51</td>\n",
       "      <td>1</td>\n",
       "      <td>1</td>\n",
       "      <td>1</td>\n",
       "    </tr>\n",
       "    <tr>\n",
       "      <th>170000000000</th>\n",
       "      <td>2</td>\n",
       "      <td>204</td>\n",
       "      <td>13218.10</td>\n",
       "      <td>3</td>\n",
       "      <td>3</td>\n",
       "      <td>2</td>\n",
       "    </tr>\n",
       "    <tr>\n",
       "      <th>201000000000</th>\n",
       "      <td>16</td>\n",
       "      <td>71</td>\n",
       "      <td>12037.09</td>\n",
       "      <td>1</td>\n",
       "      <td>1</td>\n",
       "      <td>2</td>\n",
       "    </tr>\n",
       "  </tbody>\n",
       "</table>\n",
       "</div>"
      ],
      "text/plain": [
       "              Recency  Frequency  Monetary  R  F  M\n",
       "acct_num                                           \n",
       "124000000000        2        191  17534.76  3  3  3\n",
       "138000000000      377          5   4514.41  1  1  1\n",
       "169000000000      117          2   1591.51  1  1  1\n",
       "170000000000        2        204  13218.10  3  3  2\n",
       "201000000000       16         71  12037.09  1  1  2"
      ]
     },
     "execution_count": 279,
     "metadata": {},
     "output_type": "execute_result"
    }
   ],
   "source": [
    "monetary_groups = pd.qcut(df_net_agg['Monetary'],\n",
    "                   q=3,\n",
    "                   labels=[1, 2, 3])\n",
    "\n",
    "# Create new column M\n",
    "df_net_agg = df_net_agg.assign(M=monetary_groups)\n",
    "df_net_agg.head()"
   ]
  },
  {
   "cell_type": "markdown",
   "id": "31fdaaed",
   "metadata": {
    "id": "31fdaaed"
   },
   "source": [
    "### Compute RFM Score"
   ]
  },
  {
   "cell_type": "code",
   "execution_count": 280,
   "id": "63dc6e08",
   "metadata": {
    "id": "63dc6e08"
   },
   "outputs": [
    {
     "data": {
      "text/html": [
       "<div>\n",
       "<style scoped>\n",
       "    .dataframe tbody tr th:only-of-type {\n",
       "        vertical-align: middle;\n",
       "    }\n",
       "\n",
       "    .dataframe tbody tr th {\n",
       "        vertical-align: top;\n",
       "    }\n",
       "\n",
       "    .dataframe thead th {\n",
       "        text-align: right;\n",
       "    }\n",
       "</style>\n",
       "<table border=\"1\" class=\"dataframe\">\n",
       "  <thead>\n",
       "    <tr style=\"text-align: right;\">\n",
       "      <th></th>\n",
       "      <th>Recency</th>\n",
       "      <th>Frequency</th>\n",
       "      <th>Monetary</th>\n",
       "      <th>R</th>\n",
       "      <th>F</th>\n",
       "      <th>M</th>\n",
       "      <th>RFM_Score</th>\n",
       "    </tr>\n",
       "    <tr>\n",
       "      <th>acct_num</th>\n",
       "      <th></th>\n",
       "      <th></th>\n",
       "      <th></th>\n",
       "      <th></th>\n",
       "      <th></th>\n",
       "      <th></th>\n",
       "      <th></th>\n",
       "    </tr>\n",
       "  </thead>\n",
       "  <tbody>\n",
       "    <tr>\n",
       "      <th>124000000000</th>\n",
       "      <td>2</td>\n",
       "      <td>191</td>\n",
       "      <td>17534.76</td>\n",
       "      <td>3</td>\n",
       "      <td>3</td>\n",
       "      <td>3</td>\n",
       "      <td>9</td>\n",
       "    </tr>\n",
       "    <tr>\n",
       "      <th>138000000000</th>\n",
       "      <td>377</td>\n",
       "      <td>5</td>\n",
       "      <td>4514.41</td>\n",
       "      <td>1</td>\n",
       "      <td>1</td>\n",
       "      <td>1</td>\n",
       "      <td>3</td>\n",
       "    </tr>\n",
       "    <tr>\n",
       "      <th>169000000000</th>\n",
       "      <td>117</td>\n",
       "      <td>2</td>\n",
       "      <td>1591.51</td>\n",
       "      <td>1</td>\n",
       "      <td>1</td>\n",
       "      <td>1</td>\n",
       "      <td>3</td>\n",
       "    </tr>\n",
       "    <tr>\n",
       "      <th>170000000000</th>\n",
       "      <td>2</td>\n",
       "      <td>204</td>\n",
       "      <td>13218.10</td>\n",
       "      <td>3</td>\n",
       "      <td>3</td>\n",
       "      <td>2</td>\n",
       "      <td>8</td>\n",
       "    </tr>\n",
       "    <tr>\n",
       "      <th>201000000000</th>\n",
       "      <td>16</td>\n",
       "      <td>71</td>\n",
       "      <td>12037.09</td>\n",
       "      <td>1</td>\n",
       "      <td>1</td>\n",
       "      <td>2</td>\n",
       "      <td>4</td>\n",
       "    </tr>\n",
       "  </tbody>\n",
       "</table>\n",
       "</div>"
      ],
      "text/plain": [
       "              Recency  Frequency  Monetary  R  F  M  RFM_Score\n",
       "acct_num                                                      \n",
       "124000000000        2        191  17534.76  3  3  3          9\n",
       "138000000000      377          5   4514.41  1  1  1          3\n",
       "169000000000      117          2   1591.51  1  1  1          3\n",
       "170000000000        2        204  13218.10  3  3  2          8\n",
       "201000000000       16         71  12037.09  1  1  2          4"
      ]
     },
     "execution_count": 280,
     "metadata": {},
     "output_type": "execute_result"
    }
   ],
   "source": [
    "df_net_agg['RFM_Score'] = df_net_agg[['R','F','M']].sum(axis=1)\n",
    "df_net_agg.head()"
   ]
  },
  {
   "cell_type": "code",
   "execution_count": 281,
   "id": "1e021129",
   "metadata": {
    "id": "1e021129"
   },
   "outputs": [
    {
     "data": {
      "text/plain": [
       "9"
      ]
     },
     "execution_count": 281,
     "metadata": {},
     "output_type": "execute_result"
    }
   ],
   "source": [
    "df_net_agg['RFM_Score'].max()"
   ]
  },
  {
   "cell_type": "markdown",
   "id": "88080ab1",
   "metadata": {
    "id": "88080ab1"
   },
   "source": [
    "### RFM Level Function"
   ]
  },
  {
   "cell_type": "code",
   "execution_count": 282,
   "id": "955090a7",
   "metadata": {
    "id": "955090a7"
   },
   "outputs": [
    {
     "data": {
      "text/html": [
       "<div>\n",
       "<style scoped>\n",
       "    .dataframe tbody tr th:only-of-type {\n",
       "        vertical-align: middle;\n",
       "    }\n",
       "\n",
       "    .dataframe tbody tr th {\n",
       "        vertical-align: top;\n",
       "    }\n",
       "\n",
       "    .dataframe thead th {\n",
       "        text-align: right;\n",
       "    }\n",
       "</style>\n",
       "<table border=\"1\" class=\"dataframe\">\n",
       "  <thead>\n",
       "    <tr style=\"text-align: right;\">\n",
       "      <th></th>\n",
       "      <th>Recency</th>\n",
       "      <th>Frequency</th>\n",
       "      <th>Monetary</th>\n",
       "      <th>R</th>\n",
       "      <th>F</th>\n",
       "      <th>M</th>\n",
       "      <th>RFM_Score</th>\n",
       "      <th>RFM_Level</th>\n",
       "    </tr>\n",
       "    <tr>\n",
       "      <th>acct_num</th>\n",
       "      <th></th>\n",
       "      <th></th>\n",
       "      <th></th>\n",
       "      <th></th>\n",
       "      <th></th>\n",
       "      <th></th>\n",
       "      <th></th>\n",
       "      <th></th>\n",
       "    </tr>\n",
       "  </thead>\n",
       "  <tbody>\n",
       "    <tr>\n",
       "      <th>124000000000</th>\n",
       "      <td>2</td>\n",
       "      <td>191</td>\n",
       "      <td>17534.76</td>\n",
       "      <td>3</td>\n",
       "      <td>3</td>\n",
       "      <td>3</td>\n",
       "      <td>9</td>\n",
       "      <td>Top</td>\n",
       "    </tr>\n",
       "    <tr>\n",
       "      <th>138000000000</th>\n",
       "      <td>377</td>\n",
       "      <td>5</td>\n",
       "      <td>4514.41</td>\n",
       "      <td>1</td>\n",
       "      <td>1</td>\n",
       "      <td>1</td>\n",
       "      <td>3</td>\n",
       "      <td>Low</td>\n",
       "    </tr>\n",
       "    <tr>\n",
       "      <th>169000000000</th>\n",
       "      <td>117</td>\n",
       "      <td>2</td>\n",
       "      <td>1591.51</td>\n",
       "      <td>1</td>\n",
       "      <td>1</td>\n",
       "      <td>1</td>\n",
       "      <td>3</td>\n",
       "      <td>Low</td>\n",
       "    </tr>\n",
       "    <tr>\n",
       "      <th>170000000000</th>\n",
       "      <td>2</td>\n",
       "      <td>204</td>\n",
       "      <td>13218.10</td>\n",
       "      <td>3</td>\n",
       "      <td>3</td>\n",
       "      <td>2</td>\n",
       "      <td>8</td>\n",
       "      <td>Top</td>\n",
       "    </tr>\n",
       "    <tr>\n",
       "      <th>201000000000</th>\n",
       "      <td>16</td>\n",
       "      <td>71</td>\n",
       "      <td>12037.09</td>\n",
       "      <td>1</td>\n",
       "      <td>1</td>\n",
       "      <td>2</td>\n",
       "      <td>4</td>\n",
       "      <td>Middle</td>\n",
       "    </tr>\n",
       "  </tbody>\n",
       "</table>\n",
       "</div>"
      ],
      "text/plain": [
       "              Recency  Frequency  Monetary  R  F  M  RFM_Score RFM_Level\n",
       "acct_num                                                                \n",
       "124000000000        2        191  17534.76  3  3  3          9       Top\n",
       "138000000000      377          5   4514.41  1  1  1          3       Low\n",
       "169000000000      117          2   1591.51  1  1  1          3       Low\n",
       "170000000000        2        204  13218.10  3  3  2          8       Top\n",
       "201000000000       16         71  12037.09  1  1  2          4    Middle"
      ]
     },
     "execution_count": 282,
     "metadata": {},
     "output_type": "execute_result"
    }
   ],
   "source": [
    "def rfm_level(df):\n",
    "    if df['RFM_Score'] >= 8:\n",
    "        return 'Top'\n",
    "    elif ((df['RFM_Score'] >= 4) and (df['RFM_Score'] < 7)):\n",
    "        return 'Middle'\n",
    "    else:\n",
    "        return 'Low'\n",
    "\n",
    "# Create a new variable RFM_Level\n",
    "df_net_agg['RFM_Level'] = df_net_agg.apply(rfm_level, axis=1)\n",
    "\n",
    "df_net_agg.head()"
   ]
  },
  {
   "cell_type": "code",
   "execution_count": 283,
   "id": "36d2d5c6",
   "metadata": {
    "id": "36d2d5c6"
   },
   "outputs": [
    {
     "data": {
      "text/html": [
       "<div>\n",
       "<style scoped>\n",
       "    .dataframe tbody tr th:only-of-type {\n",
       "        vertical-align: middle;\n",
       "    }\n",
       "\n",
       "    .dataframe tbody tr th {\n",
       "        vertical-align: top;\n",
       "    }\n",
       "\n",
       "    .dataframe thead tr th {\n",
       "        text-align: left;\n",
       "    }\n",
       "\n",
       "    .dataframe thead tr:last-of-type th {\n",
       "        text-align: right;\n",
       "    }\n",
       "</style>\n",
       "<table border=\"1\" class=\"dataframe\">\n",
       "  <thead>\n",
       "    <tr>\n",
       "      <th></th>\n",
       "      <th>Recency</th>\n",
       "      <th>Frequency</th>\n",
       "      <th colspan=\"2\" halign=\"left\">Monetary</th>\n",
       "    </tr>\n",
       "    <tr>\n",
       "      <th></th>\n",
       "      <th>mean</th>\n",
       "      <th>mean</th>\n",
       "      <th>mean</th>\n",
       "      <th>count</th>\n",
       "    </tr>\n",
       "    <tr>\n",
       "      <th>RFM_Level</th>\n",
       "      <th></th>\n",
       "      <th></th>\n",
       "      <th></th>\n",
       "      <th></th>\n",
       "    </tr>\n",
       "  </thead>\n",
       "  <tbody>\n",
       "    <tr>\n",
       "      <th>Low</th>\n",
       "      <td>166.2</td>\n",
       "      <td>65.4</td>\n",
       "      <td>7264.1</td>\n",
       "      <td>38</td>\n",
       "    </tr>\n",
       "    <tr>\n",
       "      <th>Middle</th>\n",
       "      <td>37.2</td>\n",
       "      <td>86.4</td>\n",
       "      <td>9863.4</td>\n",
       "      <td>18</td>\n",
       "    </tr>\n",
       "    <tr>\n",
       "      <th>Top</th>\n",
       "      <td>1.5</td>\n",
       "      <td>160.7</td>\n",
       "      <td>15307.8</td>\n",
       "      <td>33</td>\n",
       "    </tr>\n",
       "  </tbody>\n",
       "</table>\n",
       "</div>"
      ],
      "text/plain": [
       "          Recency Frequency Monetary      \n",
       "             mean      mean     mean count\n",
       "RFM_Level                                 \n",
       "Low         166.2      65.4   7264.1    38\n",
       "Middle       37.2      86.4   9863.4    18\n",
       "Top           1.5     160.7  15307.8    33"
      ]
     },
     "execution_count": 283,
     "metadata": {},
     "output_type": "execute_result"
    }
   ],
   "source": [
    "df_net_agg.groupby('RFM_Level').agg({\n",
    "    'Recency': 'mean',\n",
    "    'Frequency': 'mean',\n",
    "    'Monetary': ['mean', 'count'] }).round(1)"
   ]
  },
  {
   "cell_type": "markdown",
   "id": "6f2cb1c8",
   "metadata": {
    "id": "6f2cb1c8"
   },
   "source": [
    "# Net: Kmeans Clustering"
   ]
  },
  {
   "cell_type": "markdown",
   "id": "4c751395",
   "metadata": {
    "id": "4c751395"
   },
   "source": [
    "## Data Pre-processing"
   ]
  },
  {
   "cell_type": "markdown",
   "id": "fd74d99d",
   "metadata": {
    "id": "fd74d99d"
   },
   "source": [
    "### Skewness"
   ]
  },
  {
   "cell_type": "code",
   "execution_count": 290,
   "id": "6853d138",
   "metadata": {
    "id": "6853d138"
   },
   "outputs": [],
   "source": [
    "## Function to check skewness\n",
    "def check_skew(df_skew, column):\n",
    "    sns.set(style=\"whitegrid\")\n",
    "#    plt.xlabel(column, fontproperties=nunito_font, fontsize=14)\n",
    "#    plt.ylabel('Density', fontproperties=nunito_font, fontsize=14)\n",
    "    #    plt.title('Distribution of ' + column, fontproperties=dream_font, fontsize=20)\n",
    "    plt.xlabel(column, fontsize=14)\n",
    "    plt.ylabel('Density', fontsize=14)\n",
    "    plt.title('Distribution of ' + column, fontsize=20)\n",
    "\n",
    "#    plt.xticks(fontproperties=nunito_font, fontsize=12)\n",
    "#    plt.yticks(fontproperties=nunito_font, fontsize=12)\n",
    "    plt.xticks(fontsize=12)\n",
    "    plt.yticks(fontsize=12)\n",
    "    plt.grid(False)\n",
    "\n",
    "    skew = stats.skew(df_skew[column])\n",
    "    skewtest = stats.skewtest(df_skew[column])\n",
    "    print(\"{}'s: Skew: {}, : {}\".format(column, skew, skewtest))\n",
    "    sns.distplot(df_skew[column], color='#9468AC')\n",
    "    return"
   ]
  },
  {
   "cell_type": "code",
   "execution_count": 291,
   "id": "d3e38654",
   "metadata": {
    "id": "d3e38654"
   },
   "outputs": [
    {
     "name": "stdout",
     "output_type": "stream",
     "text": [
      "Recency's: Skew: 2.4482052300900645, : SkewtestResult(statistic=6.466407073856728, pvalue=1.0036049557114652e-10)\n",
      "Frequency's: Skew: 0.564236124423987, : SkewtestResult(statistic=2.2017120534633974, pvalue=0.02768565475733012)\n",
      "Monetary's: Skew: 0.9219396944160982, : SkewtestResult(statistic=3.3494775355767192, pvalue=0.000809641208265477)\n"
     ]
    },
    {
     "data": {
      "image/png": "[encoded data removed]",
      "text/plain": [
       "<Figure size 900x900 with 3 Axes>"
      ]
     },
     "metadata": {},
     "output_type": "display_data"
    }
   ],
   "source": [
    "# Plot all 3 graphs together for summary findings\n",
    "\n",
    "plt.figure(figsize=(9, 9))\n",
    "\n",
    "plt.subplot(3, 1, 1)\n",
    "check_skew(df_net_agg,'Recency')\n",
    "\n",
    "plt.subplot(3, 1, 2)\n",
    "check_skew(df_net_agg,'Frequency')\n",
    "\n",
    "plt.subplot(3, 1, 3)\n",
    "check_skew(df_net_agg,'Monetary')\n",
    "\n",
    "plt.tight_layout()"
   ]
  },
  {
   "cell_type": "markdown",
   "id": "9c8d6224",
   "metadata": {
    "id": "9c8d6224"
   },
   "source": [
    " - Recency's: The skewness of 2.448 suggests a right-skewed distribution. To make it more normally distributed, you can try applying a logarithmic transformation or a square root transformation to the data. You may also want to check for outliers and consider removing or transforming them.\n",
    "<br><br>\n",
    "- Frequency's: The skewness of 0.564 suggests a mild right skew. You can try a logarithmic transformation or a square root transformation to make it more normally distributed. Additionally, consider checking for outliers and addressing them if necessary.\n",
    "<br><br>\n",
    " - Monetary's: The skewness of 0.922 indicates a moderate right skew. Similar to the other variables, you can apply a logarithmic transformation or a square root transformation to make it more normally distributed. Also, check for outliers and address them as needed."
   ]
  },
  {
   "cell_type": "markdown",
   "id": "1b715207",
   "metadata": {
    "id": "1b715207"
   },
   "source": [
    "### Data Transformation (Use Box-Cox)"
   ]
  },
  {
   "cell_type": "markdown",
   "id": "33704ecc",
   "metadata": {
    "id": "33704ecc"
   },
   "source": [
    "### Log Transform"
   ]
  },
  {
   "cell_type": "code",
   "execution_count": 292,
   "id": "062a879e",
   "metadata": {
    "id": "062a879e"
   },
   "outputs": [],
   "source": [
    "df_net_rfm_log = df_net_agg[['Recency','Frequency','Monetary']]"
   ]
  },
  {
   "cell_type": "code",
   "execution_count": 293,
   "id": "0cbae485",
   "metadata": {
    "id": "0cbae485"
   },
   "outputs": [
    {
     "name": "stdout",
     "output_type": "stream",
     "text": [
      "Recency's: Skew: 0.8190519656652074, : SkewtestResult(statistic=3.0414490825440343, pvalue=0.0023544238261903588)\n",
      "Frequency's: Skew: -0.966572906191179, : SkewtestResult(statistic=-3.47782919758458, pvalue=0.0005054919167999027)\n",
      "Monetary's: Skew: -0.7126895764975364, : SkewtestResult(statistic=-2.7044952192109553, pvalue=0.006840825407386016)\n"
     ]
    },
    {
     "data": {
      "image/png": "[encoded data removed]",
      "text/plain": [
       "<Figure size 900x900 with 3 Axes>"
      ]
     },
     "metadata": {},
     "output_type": "display_data"
    }
   ],
   "source": [
    "df_rfm_log = np.log(df_net_rfm_log)\n",
    "\n",
    "plt.figure(figsize=(9, 9))\n",
    "\n",
    "plt.subplot(3, 1, 1)\n",
    "check_skew(df_rfm_log,'Recency')\n",
    "\n",
    "plt.subplot(3, 1, 2)\n",
    "check_skew(df_rfm_log,'Frequency')\n",
    "\n",
    "plt.subplot(3, 1, 3)\n",
    "check_skew(df_rfm_log,'Monetary')\n",
    "\n",
    "plt.tight_layout()"
   ]
  },
  {
   "cell_type": "markdown",
   "id": "11af86b1",
   "metadata": {
    "id": "11af86b1"
   },
   "source": [
    "### Square root"
   ]
  },
  {
   "cell_type": "code",
   "execution_count": 294,
   "id": "62e62cf7",
   "metadata": {
    "id": "62e62cf7"
   },
   "outputs": [],
   "source": [
    "df_net_rfm_sqrt = df_net_agg[['Recency','Frequency','Monetary']]\n",
    "df_net_rfm_sqrt = np.sqrt(df_net_rfm_sqrt)"
   ]
  },
  {
   "cell_type": "code",
   "execution_count": 295,
   "id": "3a0b6887",
   "metadata": {
    "id": "3a0b6887"
   },
   "outputs": [
    {
     "name": "stdout",
     "output_type": "stream",
     "text": [
      "Recency's: Skew: 1.6623238670315916, : SkewtestResult(statistic=5.134164072535255, pvalue=2.8340078809133245e-07)\n",
      "Frequency's: Skew: -0.2764921718639651, : SkewtestResult(statistic=-1.12414445936739, pvalue=0.26095174691291734)\n",
      "Monetary's: Skew: 0.12790139647026075, : SkewtestResult(statistic=0.5259922169103997, pvalue=0.598893614685861)\n"
     ]
    },
    {
     "data": {
      "image/png": "[encoded data removed]",
      "text/plain": [
       "<Figure size 900x900 with 3 Axes>"
      ]
     },
     "metadata": {},
     "output_type": "display_data"
    }
   ],
   "source": [
    "plt.figure(figsize=(9, 9))\n",
    "\n",
    "plt.subplot(3, 1, 1)\n",
    "check_skew(df_net_rfm_sqrt,'Recency')\n",
    "\n",
    "plt.subplot(3, 1, 2)\n",
    "check_skew(df_net_rfm_sqrt,'Frequency')\n",
    "\n",
    "plt.subplot(3, 1, 3)\n",
    "check_skew(df_net_rfm_sqrt,'Monetary')\n",
    "\n",
    "plt.tight_layout()"
   ]
  },
  {
   "cell_type": "markdown",
   "id": "58e333ea",
   "metadata": {
    "id": "58e333ea"
   },
   "source": [
    "### Box cox"
   ]
  },
  {
   "cell_type": "code",
   "execution_count": 296,
   "id": "889b33fe",
   "metadata": {
    "id": "889b33fe"
   },
   "outputs": [],
   "source": [
    "df_net_rfm_bc = df_net_agg[['Recency','Frequency','Monetary']]\n",
    "\n",
    "df_net_rfm_bc['Recency'] = stats.boxcox(df_net_agg['Recency'])[0]\n",
    "df_net_rfm_bc['Frequency'] = stats.boxcox(df_net_agg['Frequency'])[0]\n",
    "df_net_rfm_bc['Monetary'] = stats.boxcox(df_net_agg['Monetary'])[0]"
   ]
  },
  {
   "cell_type": "code",
   "execution_count": 297,
   "id": "72fb4883",
   "metadata": {
    "id": "72fb4883",
    "scrolled": true
   },
   "outputs": [
    {
     "name": "stdout",
     "output_type": "stream",
     "text": [
      "Recency's: Skew: 0.3024258645137551, : SkewtestResult(statistic=1.2261830639164182, pvalue=0.2201297931074947)\n",
      "Frequency's: Skew: -0.3608293461925565, : SkewtestResult(statistic=-1.4527783770528833, pvalue=0.1462852974070756)\n",
      "Monetary's: Skew: -0.06615262667891975, : SkewtestResult(statistic=-0.2726914539819764, pvalue=0.7850904045634588)\n"
     ]
    },
    {
     "data": {
      "image/png": "[encoded data removed]",
      "text/plain": [
       "<Figure size 900x900 with 3 Axes>"
      ]
     },
     "metadata": {},
     "output_type": "display_data"
    }
   ],
   "source": [
    "plt.figure(figsize=(9, 9))\n",
    "\n",
    "plt.subplot(3, 1, 1)\n",
    "check_skew(df_net_rfm_bc,'Recency')\n",
    "\n",
    "plt.subplot(3, 1, 2)\n",
    "check_skew(df_net_rfm_bc,'Frequency')\n",
    "\n",
    "plt.subplot(3, 1, 3)\n",
    "check_skew(df_net_rfm_bc,'Monetary')\n",
    "\n",
    "plt.tight_layout()"
   ]
  },
  {
   "cell_type": "markdown",
   "id": "8d8095c4",
   "metadata": {
    "id": "8d8095c4"
   },
   "source": [
    "Among different transformations, Box-cox yielded the best results (skew near 0 and pvalue >0.05)"
   ]
  },
  {
   "cell_type": "markdown",
   "id": "e0a478bb",
   "metadata": {
    "id": "e0a478bb"
   },
   "source": [
    "### Scaling"
   ]
  },
  {
   "cell_type": "code",
   "execution_count": 298,
   "id": "3d335473",
   "metadata": {
    "id": "3d335473"
   },
   "outputs": [],
   "source": [
    "scaler = StandardScaler()\n",
    "scaler.fit(df_net_rfm_bc)\n",
    "rfm_net_table_scaled = scaler.transform(df_net_rfm_bc)"
   ]
  },
  {
   "cell_type": "code",
   "execution_count": 299,
   "id": "42dfbe86",
   "metadata": {
    "id": "42dfbe86"
   },
   "outputs": [
    {
     "data": {
      "text/html": [
       "<div>\n",
       "<style scoped>\n",
       "    .dataframe tbody tr th:only-of-type {\n",
       "        vertical-align: middle;\n",
       "    }\n",
       "\n",
       "    .dataframe tbody tr th {\n",
       "        vertical-align: top;\n",
       "    }\n",
       "\n",
       "    .dataframe thead th {\n",
       "        text-align: right;\n",
       "    }\n",
       "</style>\n",
       "<table border=\"1\" class=\"dataframe\">\n",
       "  <thead>\n",
       "    <tr style=\"text-align: right;\">\n",
       "      <th></th>\n",
       "      <th>Recency</th>\n",
       "      <th>Frequency</th>\n",
       "      <th>Monetary</th>\n",
       "    </tr>\n",
       "  </thead>\n",
       "  <tbody>\n",
       "    <tr>\n",
       "      <th>0</th>\n",
       "      <td>-0.671080</td>\n",
       "      <td>0.974203</td>\n",
       "      <td>0.996732</td>\n",
       "    </tr>\n",
       "    <tr>\n",
       "      <th>1</th>\n",
       "      <td>1.537646</td>\n",
       "      <td>-1.405167</td>\n",
       "      <td>-0.873997</td>\n",
       "    </tr>\n",
       "    <tr>\n",
       "      <th>2</th>\n",
       "      <td>1.287216</td>\n",
       "      <td>-1.600801</td>\n",
       "      <td>-1.783636</td>\n",
       "    </tr>\n",
       "    <tr>\n",
       "      <th>3</th>\n",
       "      <td>-0.671080</td>\n",
       "      <td>1.062543</td>\n",
       "      <td>0.524462</td>\n",
       "    </tr>\n",
       "    <tr>\n",
       "      <th>4</th>\n",
       "      <td>0.608523</td>\n",
       "      <td>-0.083369</td>\n",
       "      <td>0.378837</td>\n",
       "    </tr>\n",
       "  </tbody>\n",
       "</table>\n",
       "</div>"
      ],
      "text/plain": [
       "    Recency  Frequency  Monetary\n",
       "0 -0.671080   0.974203  0.996732\n",
       "1  1.537646  -1.405167 -0.873997\n",
       "2  1.287216  -1.600801 -1.783636\n",
       "3 -0.671080   1.062543  0.524462\n",
       "4  0.608523  -0.083369  0.378837"
      ]
     },
     "execution_count": 299,
     "metadata": {},
     "output_type": "execute_result"
    }
   ],
   "source": [
    "rfm_net_table_scaled_df = pd.DataFrame(rfm_net_table_scaled, columns=df_rfm_log.columns)\n",
    "rfm_net_table_scaled_df.head()"
   ]
  },
  {
   "cell_type": "markdown",
   "id": "64c9fc3c",
   "metadata": {
    "id": "64c9fc3c"
   },
   "source": [
    "### KMeans"
   ]
  },
  {
   "cell_type": "code",
   "execution_count": 300,
   "id": "b6a6deee",
   "metadata": {
    "id": "b6a6deee"
   },
   "outputs": [],
   "source": [
    "from sklearn.metrics import silhouette_score,  davies_bouldin_score\n",
    "from scipy.spatial.distance import cdist\n",
    "# distortions = []\n",
    "\n",
    "wcss = {} ## Within-Cluster Sum of Square\n",
    "ssc = {}\n",
    "calinski_score = {}\n",
    "davies_score = {}\n",
    "K = range(2,10)\n",
    "\n",
    "for k in K:\n",
    "    #Building and fitting the model\n",
    "    kmeans_model = KMeans(n_clusters=k, random_state=42).fit(rfm_net_table_scaled_df)\n",
    "    kmeans_model.fit(rfm_net_table_scaled_df)\n",
    "\n",
    "    wcss[k] = kmeans_model.inertia_ ### sum of squared distances to closest cluster center\n",
    "    ssc[k] = silhouette_score(rfm_net_table_scaled_df, kmeans_model.labels_, metric='euclidean')\n",
    "    davies_score[k] = davies_bouldin_score(rfm_net_table_scaled_df, kmeans_model.labels_)"
   ]
  },
  {
   "cell_type": "markdown",
   "id": "785d3220",
   "metadata": {
    "id": "785d3220"
   },
   "source": [
    "### Identify Number of Clusters"
   ]
  },
  {
   "cell_type": "markdown",
   "id": "d24fd42f",
   "metadata": {
    "id": "d24fd42f"
   },
   "source": [
    "### The Elbow Method (Cluster = 3)"
   ]
  },
  {
   "cell_type": "code",
   "execution_count": 301,
   "id": "6975bd0f",
   "metadata": {
    "id": "6975bd0f"
   },
   "outputs": [
    {
     "data": {
      "image/png": "[encoded data removed]",
      "text/plain": [
       "<Figure size 800x550 with 1 Axes>"
      ]
     },
     "metadata": {},
     "output_type": "display_data"
    }
   ],
   "source": [
    "plt.title('The Elbow Method')\n",
    "plt.xlabel('Number of Cluster')\n",
    "plt.ylabel('Intertia')\n",
    "sns.pointplot(x=list(wcss.keys()), y=list(wcss.values()))\n",
    "plt.show()"
   ]
  },
  {
   "cell_type": "code",
   "execution_count": 302,
   "id": "d00a098e",
   "metadata": {
    "id": "d00a098e"
   },
   "outputs": [
    {
     "ename": "ModuleNotFoundError",
     "evalue": "No module named 'kneed'",
     "output_type": "error",
     "traceback": [
      "\u001b[1;31m---------------------------------------------------------------------------\u001b[0m",
      "\u001b[1;31mModuleNotFoundError\u001b[0m                       Traceback (most recent call last)",
      "Cell \u001b[1;32mIn[302], line 1\u001b[0m\n\u001b[1;32m----> 1\u001b[0m \u001b[38;5;28;01mfrom\u001b[39;00m \u001b[38;5;21;01mkneed\u001b[39;00m \u001b[38;5;28;01mimport\u001b[39;00m KneeLocator\n\u001b[0;32m      3\u001b[0m cost_kneed \u001b[38;5;241m=\u001b[39m KneeLocator(x \u001b[38;5;241m=\u001b[39m K , y \u001b[38;5;241m=\u001b[39m \u001b[38;5;28mlist\u001b[39m(wcss\u001b[38;5;241m.\u001b[39mvalues()) , S \u001b[38;5;241m=\u001b[39m \u001b[38;5;241m1.0\u001b[39m , curve \u001b[38;5;241m=\u001b[39m \u001b[38;5;124m'\u001b[39m\u001b[38;5;124mconvex\u001b[39m\u001b[38;5;124m'\u001b[39m , direction \u001b[38;5;241m=\u001b[39m \u001b[38;5;124m'\u001b[39m\u001b[38;5;124mdecreasing\u001b[39m\u001b[38;5;124m'\u001b[39m , online \u001b[38;5;241m=\u001b[39m \u001b[38;5;28;01mTrue\u001b[39;00m)\n\u001b[0;32m      4\u001b[0m suggested_cluster \u001b[38;5;241m=\u001b[39m cost_kneed\u001b[38;5;241m.\u001b[39melbow\n",
      "\u001b[1;31mModuleNotFoundError\u001b[0m: No module named 'kneed'"
     ]
    }
   ],
   "source": [
    "from kneed import KneeLocator\n",
    "\n",
    "cost_kneed = KneeLocator(x = K , y = list(wcss.values()) , S = 1.0 , curve = 'convex' , direction = 'decreasing' , online = True)\n",
    "suggested_cluster = cost_kneed.elbow\n",
    "print('Elbow at k = {} clusters'.format(suggested_cluster))"
   ]
  },
  {
   "cell_type": "markdown",
   "id": "10fe85ab",
   "metadata": {
    "id": "10fe85ab"
   },
   "source": [
    "### Silhouette Score (2 or 3)"
   ]
  },
  {
   "cell_type": "code",
   "execution_count": null,
   "id": "07c6e478",
   "metadata": {
    "id": "07c6e478"
   },
   "outputs": [],
   "source": [
    "plt.title('Silhouette Score')\n",
    "plt.xlabel('k')\n",
    "plt.ylabel('silhouette_score')\n",
    "sns.pointplot(x=list(ssc.keys()), y=list(ssc.values()))\n",
    "plt.show()"
   ]
  },
  {
   "cell_type": "code",
   "execution_count": null,
   "id": "3ab8ca75",
   "metadata": {
    "id": "3ab8ca75"
   },
   "outputs": [],
   "source": [
    "def silhouette_plot(X , from_k , to_k):\n",
    "    silhouette_scores = []\n",
    "    for k in range(from_k , to_k):\n",
    "        #Instantiate model in k clusters\n",
    "        model = KMeans(n_clusters = k)\n",
    "        #Instantiate Visualizer model of with k clusters\n",
    "        visualizer = SilhouetteVisualizer(model)\n",
    "        #Fit data to the model\n",
    "        visualizer.fit(X)\n",
    "        #Draw data\n",
    "        visualizer.poof()\n",
    "        #Append score\n",
    "        silhouette_scores.append([visualizer.silhouette_score_ , k])\n",
    "    return silhouette_scores"
   ]
  },
  {
   "cell_type": "code",
   "execution_count": null,
   "id": "48113738",
   "metadata": {
    "id": "48113738"
   },
   "outputs": [],
   "source": [
    "silhouette_plot(rfm_net_table_scaled_df , 2 , 9)"
   ]
  },
  {
   "cell_type": "markdown",
   "id": "fb68572a",
   "metadata": {
    "id": "fb68572a"
   },
   "source": [
    "Graph shows either 2 or 3 as best number of clusters - High Sil. coeff (nearer to 1) and high and above ave. individual/cluster sil. coef values"
   ]
  },
  {
   "cell_type": "markdown",
   "id": "0c7f3ee5",
   "metadata": {
    "id": "0c7f3ee5"
   },
   "source": [
    "### Davies Bouldin Score (Cluster = 2)"
   ]
  },
  {
   "cell_type": "code",
   "execution_count": null,
   "id": "0242ec8e",
   "metadata": {
    "id": "0242ec8e",
    "scrolled": true
   },
   "outputs": [],
   "source": [
    "plt.title('Davies Bouldin Score')\n",
    "plt.xlabel('clusters')\n",
    "plt.ylabel('davies_score')\n",
    "sns.pointplot(x=list(davies_score.keys()), y=list(davies_score.values()))\n",
    "plt.show()"
   ]
  },
  {
   "cell_type": "markdown",
   "id": "6a87c3b6",
   "metadata": {
    "id": "6a87c3b6"
   },
   "source": [
    "For Davies Bouldin Score, Cluster = 2 has the lowest score"
   ]
  },
  {
   "cell_type": "markdown",
   "id": "8b00df35",
   "metadata": {
    "id": "8b00df35"
   },
   "source": [
    "### Visualization"
   ]
  },
  {
   "cell_type": "markdown",
   "id": "64e005c3",
   "metadata": {
    "id": "64e005c3"
   },
   "source": [
    "### TSNE Graph"
   ]
  },
  {
   "cell_type": "code",
   "execution_count": null,
   "id": "b4e8efd2",
   "metadata": {
    "id": "b4e8efd2"
   },
   "outputs": [],
   "source": [
    "def flattened_graph(normalised_df_rfm, clusters_number, original_df_rfm):\n",
    "\n",
    "    kmeans = KMeans(n_clusters = clusters_number, random_state = 1)\n",
    "    kmeans.fit(normalised_df_rfm)\n",
    "\n",
    "    # Extract cluster labels\n",
    "    cluster_labels = kmeans.labels_\n",
    "\n",
    "    # Create a cluster label column in original dataset\n",
    "    df_new = original_df_rfm.assign(Cluster = cluster_labels)\n",
    "\n",
    "    # Initialise TSNE\n",
    "    model = TSNE(random_state=1)\n",
    "    transformed = model.fit_transform(df_new)\n",
    "\n",
    "    # Plot t-SNE\n",
    "    plt.title('Flattened Graph of {} Clusters'.format(clusters_number))\n",
    "    sns.scatterplot(x=transformed[:,0], y=transformed[:,1], hue=cluster_labels, style=cluster_labels, palette=\"Set1\")\n",
    "\n",
    "    return df_new"
   ]
  },
  {
   "cell_type": "code",
   "execution_count": null,
   "id": "8c1dfe04",
   "metadata": {
    "id": "8c1dfe04"
   },
   "outputs": [],
   "source": [
    "plt.figure(figsize=(10, 10))\n",
    "\n",
    "plt.subplot(4, 1, 1)\n",
    "df_rfm_k2 = flattened_graph(rfm_net_table_scaled_df, 2, df_net_agg[['Recency','Frequency','Monetary']])\n",
    "\n",
    "plt.subplot(4, 1, 2)\n",
    "df_rfm_k3 = flattened_graph(rfm_net_table_scaled_df, 3, df_net_agg[['Recency','Frequency','Monetary']])\n",
    "\n",
    "plt.subplot(4, 1, 3)\n",
    "df_rfm_k4 = flattened_graph(rfm_net_table_scaled_df, 4, df_net_agg[['Recency','Frequency','Monetary']])\n",
    "\n",
    "plt.subplot(4, 1, 4)\n",
    "df_rfm_k5 = flattened_graph(rfm_net_table_scaled_df, 5, df_net_agg[['Recency','Frequency','Monetary']])\n",
    "\n",
    "plt.tight_layout()"
   ]
  },
  {
   "cell_type": "markdown",
   "id": "1899b7e1",
   "metadata": {
    "id": "1899b7e1"
   },
   "source": [
    "### Snake Plot"
   ]
  },
  {
   "cell_type": "code",
   "execution_count": null,
   "id": "b441c755",
   "metadata": {
    "id": "b441c755"
   },
   "outputs": [],
   "source": [
    "def snake_plot(normalised_df_rfm, df_rfm_kmeans, df_rfm_original):\n",
    "\n",
    "    normalised_df_rfm['CustomerID'] = df_rfm_original.index\n",
    "    normalised_df_rfm['Cluster'] = list(df_rfm_kmeans['Cluster'])\n",
    "\n",
    "    # # Melt data into long format\n",
    "    df_melt = pd.melt(normalised_df_rfm,\n",
    "                        id_vars=['CustomerID', 'Cluster'],\n",
    "                        value_vars=['Recency', 'Frequency', 'Monetary'],\n",
    "                        var_name='Metric',\n",
    "                        value_name='Value')\n",
    "\n",
    "    plt.xlabel('Metric')\n",
    "    plt.ylabel('Value')\n",
    "    sns.pointplot(data=df_melt, x='Metric', y='Value', hue='Cluster')\n",
    "\n",
    "    return"
   ]
  },
  {
   "cell_type": "code",
   "execution_count": null,
   "id": "18a3dc42",
   "metadata": {
    "id": "18a3dc42"
   },
   "outputs": [],
   "source": [
    "plt.figure(figsize=(9, 9))\n",
    "plt.subplot(4, 1, 1)\n",
    "plt.title('Snake Plot of K-Means = 2')\n",
    "snake_plot(rfm_net_table_scaled_df, df_rfm_k2, df_net_agg[['Recency','Frequency','Monetary']])\n",
    "\n",
    "plt.subplot(4, 1, 2)\n",
    "plt.title('Snake Plot of K-Means = 3')\n",
    "snake_plot(rfm_net_table_scaled_df, df_rfm_k3, df_net_agg[['Recency','Frequency','Monetary']])\n",
    "\n",
    "plt.subplot(4, 1, 3)\n",
    "\n",
    "plt.title('Snake Plot of K-Means = 4')\n",
    "snake_plot(rfm_net_table_scaled_df, df_rfm_k4, df_net_agg[['Recency','Frequency','Monetary']])\n",
    "\n",
    "plt.subplot(4, 1, 4)\n",
    "plt.title('Snake Plot of K-Means = 5')\n",
    "snake_plot(rfm_net_table_scaled_df, df_rfm_k5, df_net_agg[['Recency','Frequency','Monetary']])\n",
    "\n",
    "plt.tight_layout()"
   ]
  },
  {
   "cell_type": "markdown",
   "id": "90c63f3b",
   "metadata": {
    "id": "90c63f3b"
   },
   "source": []
  },
  {
   "cell_type": "markdown",
   "id": "f87b2d2f",
   "metadata": {
    "id": "f87b2d2f"
   },
   "source": [
    "### Count Plot"
   ]
  },
  {
   "cell_type": "code",
   "execution_count": null,
   "id": "25789487",
   "metadata": {
    "id": "25789487"
   },
   "outputs": [],
   "source": [
    "def countplot(cluster, cluster_number):\n",
    "  original_scale = df_net_agg[['Recency','Frequency','Monetary']]\n",
    "  original_scale['Cluster'] = list(cluster['Cluster'])\n",
    "\n",
    "  sns.catplot(\n",
    "    data=original_scale,\n",
    "    x=\"Cluster\",\n",
    "    kind=\"count\"\n",
    "  )\n",
    "  plt.show()\n",
    "\n",
    "  return"
   ]
  },
  {
   "cell_type": "code",
   "execution_count": null,
   "id": "5c02fc27",
   "metadata": {
    "id": "5c02fc27"
   },
   "outputs": [],
   "source": [
    "countplot(df_rfm_k2, 2)"
   ]
  },
  {
   "cell_type": "code",
   "execution_count": null,
   "id": "1ca0bc3d",
   "metadata": {
    "id": "1ca0bc3d"
   },
   "outputs": [],
   "source": [
    "countplot(df_rfm_k3, 3)"
   ]
  },
  {
   "cell_type": "code",
   "execution_count": null,
   "id": "68684f14",
   "metadata": {
    "id": "68684f14"
   },
   "outputs": [],
   "source": [
    "countplot(df_rfm_k4, 4)"
   ]
  },
  {
   "cell_type": "code",
   "execution_count": null,
   "id": "198b81ff",
   "metadata": {
    "id": "198b81ff"
   },
   "outputs": [],
   "source": [
    "countplot(df_rfm_k5, 4)"
   ]
  },
  {
   "cell_type": "markdown",
   "id": "ded175bd",
   "metadata": {
    "id": "ded175bd"
   },
   "source": [
    "Based on number of sample size (n=89), and resulting graphs, 3 is the best cluster."
   ]
  },
  {
   "cell_type": "code",
   "execution_count": null,
   "id": "294a3ce5",
   "metadata": {
    "id": "294a3ce5"
   },
   "outputs": [],
   "source": [
    "def rfm_values(df):\n",
    "\n",
    "    df_new = df.groupby(['Cluster']).agg({\n",
    "        'Recency': 'mean',\n",
    "        'Frequency': 'mean',\n",
    "        'Monetary': ['mean', 'count']\n",
    "    }).round(0)\n",
    "\n",
    "    return df_new"
   ]
  },
  {
   "cell_type": "code",
   "execution_count": null,
   "id": "db8016f4",
   "metadata": {
    "id": "db8016f4",
    "scrolled": true
   },
   "outputs": [],
   "source": [
    "rfm_values(df_rfm_k3)"
   ]
  },
  {
   "cell_type": "markdown",
   "id": "3ba41515",
   "metadata": {
    "id": "3ba41515"
   },
   "source": [
    "- Cluster 0 - High R, High F, High M (Active, Loyal, High Spender)\n",
    "- Cluster 1 - Low R, Low F, Low M (Inactive, Not Loyal, Low Spender)\n",
    "- Cluster 2 - High R, Low F, Low M (Active, Not Loyal, Low Spender)"
   ]
  },
  {
   "cell_type": "markdown",
   "id": "6f69d7ff",
   "metadata": {
    "id": "6f69d7ff"
   },
   "source": [
    "### Interpretation"
   ]
  },
  {
   "cell_type": "code",
   "execution_count": null,
   "id": "1ff9e380",
   "metadata": {
    "id": "1ff9e380"
   },
   "outputs": [],
   "source": [
    "interpret_cluster_result = df_net_agg\n",
    "interpret_cluster_result['CustomerID'] = df_net_agg.index\n",
    "interpret_cluster_result['Cluster'] = df_rfm_k3['Cluster']"
   ]
  },
  {
   "cell_type": "code",
   "execution_count": null,
   "id": "2520ae11",
   "metadata": {
    "id": "2520ae11"
   },
   "outputs": [],
   "source": [
    "interpret_cluster_result.head()"
   ]
  },
  {
   "cell_type": "code",
   "execution_count": null,
   "id": "00078bec",
   "metadata": {
    "id": "00078bec"
   },
   "outputs": [],
   "source": [
    "import matplotlib.pyplot as plt\n",
    "import numpy as np\n",
    "\n",
    "# Generate sample data\n",
    "np.random.seed(0)\n",
    "n_points = 100\n",
    "x = list(interpret_cluster_result['Recency'])\n",
    "y = list(interpret_cluster_result['Frequency'])\n",
    "z = list(interpret_cluster_result['Monetary'])\n",
    "c = list(interpret_cluster_result['Cluster'])\n",
    "\n",
    "# Create a 3D scatter plot\n",
    "fig = plt.figure()\n",
    "ax = fig.add_subplot(111, projection='3d')\n",
    "\n",
    "# Plot the data points\n",
    "scatter = ax.scatter(x, y, z, c=c, cmap=\"viridis\")\n",
    "\n",
    "# Label the axes\n",
    "ax.set_xlabel('Recency')\n",
    "ax.set_ylabel('Frequency')\n",
    "ax.set_zlabel('Monetary')\n",
    "\n",
    "\n",
    "# Set the plot title\n",
    "plt.title('3D Scatter Plot')\n",
    "\n",
    "# Display the legend\n",
    "plt.legend()\n",
    "\n",
    "# Show the plot\n",
    "plt.show()"
   ]
  },
  {
   "cell_type": "code",
   "execution_count": null,
   "id": "ec813b97",
   "metadata": {
    "id": "ec813b97"
   },
   "outputs": [],
   "source": [
    "sns.relplot(data=interpret_cluster_result,\n",
    "            x=\"Recency\",\n",
    "            y=\"Frequency\",\n",
    "            hue=\"Cluster\",\n",
    "            size=\"Cluster\"\n",
    "            )\n",
    "plt.show()"
   ]
  },
  {
   "cell_type": "code",
   "execution_count": null,
   "id": "efadf52d",
   "metadata": {
    "id": "efadf52d"
   },
   "outputs": [],
   "source": [
    "sns.relplot(data=interpret_cluster_result,\n",
    "            x=\"Recency\",\n",
    "            y=\"Monetary\",\n",
    "            hue=\"Cluster\",\n",
    "            size=\"Cluster\"\n",
    "            )\n",
    "plt.show()"
   ]
  },
  {
   "cell_type": "code",
   "execution_count": null,
   "id": "22becb27",
   "metadata": {
    "id": "22becb27"
   },
   "outputs": [],
   "source": [
    "sns.relplot(data=interpret_cluster_result,\n",
    "            x=\"Frequency\",\n",
    "            y=\"Monetary\",\n",
    "            hue=\"Cluster\",\n",
    "            size=\"Cluster\"\n",
    "            )\n",
    "plt.show()"
   ]
  },
  {
   "cell_type": "markdown",
   "id": "01c8a315",
   "metadata": {
    "id": "01c8a315"
   },
   "source": [
    "### Boxplot"
   ]
  },
  {
   "cell_type": "code",
   "execution_count": null,
   "id": "02e6c392",
   "metadata": {
    "id": "02e6c392"
   },
   "outputs": [],
   "source": [
    "interpret_cluster_result.loc[interpret_cluster_result['Cluster']==0, 'Cluster'] = 'Cluster 1'\n",
    "interpret_cluster_result.loc[interpret_cluster_result['Cluster']==1, 'Cluster'] = 'Cluster 2'\n",
    "interpret_cluster_result.loc[interpret_cluster_result['Cluster']==2, 'Cluster'] = 'Cluster 3'\n",
    "interpret_cluster_result"
   ]
  },
  {
   "cell_type": "code",
   "execution_count": null,
   "id": "186aa0fd",
   "metadata": {
    "id": "186aa0fd"
   },
   "outputs": [],
   "source": [
    "sns.catplot(\n",
    "    data=interpret_cluster_result,\n",
    "    x=\"Recency\",\n",
    "    y=\"Cluster\",\n",
    "    kind=\"box\",\n",
    "    sym=\"\",\n",
    "    order=[\"Cluster 1\", \"Cluster 2\", \"Cluster 3\"],\n",
    "    )\n",
    "plt.show()"
   ]
  },
  {
   "cell_type": "code",
   "execution_count": null,
   "id": "0d0a83c7",
   "metadata": {
    "id": "0d0a83c7"
   },
   "outputs": [],
   "source": [
    "sns.catplot(\n",
    "    data=interpret_cluster_result,\n",
    "    x=\"Frequency\",\n",
    "    y=\"Cluster\",\n",
    "    kind=\"box\",\n",
    "    sym=\"\",\n",
    "    order=[\"Cluster 1\", \"Cluster 2\", \"Cluster 3\"]\n",
    "    )\n",
    "plt.show()"
   ]
  },
  {
   "cell_type": "code",
   "execution_count": null,
   "id": "f2a373ae",
   "metadata": {
    "id": "f2a373ae"
   },
   "outputs": [],
   "source": [
    "sns.catplot(\n",
    "    data=interpret_cluster_result,\n",
    "    x=\"Monetary\",\n",
    "    y=\"Cluster\",\n",
    "    kind=\"box\",\n",
    "    sym=\"\",\n",
    "    order=[\"Cluster 1\", \"Cluster 2\", \"Cluster 3\"]\n",
    "    )\n",
    "plt.show()"
   ]
  },
  {
   "cell_type": "markdown",
   "id": "9e245c18",
   "metadata": {
    "id": "9e245c18"
   },
   "source": [
    "### Hypothesis Testing"
   ]
  },
  {
   "cell_type": "code",
   "execution_count": null,
   "id": "9ec9e439",
   "metadata": {
    "id": "9ec9e439"
   },
   "outputs": [],
   "source": [
    "interpret_cluster_result = df_net_agg\n",
    "interpret_cluster_result['CustomerID'] = df_net_agg.index\n",
    "interpret_cluster_result['Cluster'] = df_rfm_k3['Cluster']"
   ]
  },
  {
   "cell_type": "code",
   "execution_count": null,
   "id": "3cee9cd5",
   "metadata": {
    "id": "3cee9cd5",
    "scrolled": true
   },
   "outputs": [],
   "source": [
    "from scipy.stats import f_oneway\n",
    "\n",
    "# Perform ANOVA tests for each RFM variable\n",
    "for rfm_variable in ['Recency', 'Frequency', 'Monetary']:\n",
    "    # Extract data for each cluster\n",
    "    cluster_data = [interpret_cluster_result[rfm_variable][interpret_cluster_result['Cluster'] == cluster]\n",
    "                    for cluster in interpret_cluster_result['Cluster'].unique()]\n",
    "\n",
    "    # Perform ANOVA test\n",
    "    f_statistic, p_value = f_oneway(*cluster_data)\n",
    "\n",
    "    # Output results\n",
    "    print(f\"ANOVA test for {rfm_variable}:\")\n",
    "    print(f\"F-statistic: {f_statistic}\")\n",
    "    print(f\"P-value: {p_value}\")\n",
    "    if p_value < 0.05:\n",
    "        print(\"Statistically significant difference\")\n",
    "    else:\n",
    "        print(\"No statistically significant difference\")\n",
    "    print(\"\\n\")\n"
   ]
  },
  {
   "cell_type": "markdown",
   "id": "19f0b951",
   "metadata": {
    "id": "19f0b951"
   },
   "source": [
    "# Demographics Deep Dive"
   ]
  },
  {
   "cell_type": "code",
   "execution_count": null,
   "id": "97c0ad1b",
   "metadata": {
    "id": "97c0ad1b"
   },
   "outputs": [],
   "source": [
    "df_net_agg[['CustomerID','Cluster']]"
   ]
  },
  {
   "cell_type": "code",
   "execution_count": null,
   "id": "cb012e5b",
   "metadata": {
    "id": "cb012e5b"
   },
   "outputs": [],
   "source": [
    "df_pos_net.columns"
   ]
  },
  {
   "cell_type": "code",
   "execution_count": null,
   "id": "7e3e7671",
   "metadata": {
    "id": "7e3e7671"
   },
   "outputs": [],
   "source": [
    "df_pos_net_dem = df_pos_net[['gender', 'city', 'city_pop', 'job', 'acct_num', 'age', 'is_ncr', 'gen_cat']]"
   ]
  },
  {
   "cell_type": "code",
   "execution_count": null,
   "id": "67e1b3eb",
   "metadata": {
    "id": "67e1b3eb"
   },
   "outputs": [],
   "source": [
    "df_net_dem = df_pos_net_dem[df_pos_net_dem['gen_cat']=='Net'].drop_duplicates()"
   ]
  },
  {
   "cell_type": "code",
   "execution_count": null,
   "id": "a771f190",
   "metadata": {
    "id": "a771f190"
   },
   "outputs": [],
   "source": [
    "df_net_dem"
   ]
  },
  {
   "cell_type": "code",
   "execution_count": null,
   "id": "454051dc",
   "metadata": {
    "id": "454051dc"
   },
   "outputs": [],
   "source": [
    "merged_df = pd.merge(df_net_dem, df_net_agg[['CustomerID','Cluster']], on='acct_num', how='left')"
   ]
  },
  {
   "cell_type": "code",
   "execution_count": null,
   "id": "2815d897",
   "metadata": {
    "id": "2815d897"
   },
   "outputs": [],
   "source": [
    "merged_df"
   ]
  },
  {
   "cell_type": "code",
   "execution_count": null,
   "id": "78d92316",
   "metadata": {
    "id": "78d92316"
   },
   "outputs": [],
   "source": [
    "merged_df.value_counts('acct_num')"
   ]
  },
  {
   "cell_type": "code",
   "execution_count": null,
   "id": "f200837b",
   "metadata": {
    "id": "f200837b",
    "scrolled": true
   },
   "outputs": [],
   "source": [
    "merged_df[merged_df['acct_num']=='581000000000']"
   ]
  },
  {
   "cell_type": "code",
   "execution_count": null,
   "id": "4d4bbbff",
   "metadata": {
    "id": "4d4bbbff"
   },
   "outputs": [],
   "source": [
    "merged_pop = merged_df[['city','city_pop','Cluster','acct_num','is_ncr']].drop_duplicates()"
   ]
  },
  {
   "cell_type": "markdown",
   "id": "ada5d19f",
   "metadata": {
    "id": "ada5d19f"
   },
   "source": [
    "## Location"
   ]
  },
  {
   "cell_type": "code",
   "execution_count": null,
   "id": "565fd7d7",
   "metadata": {
    "id": "565fd7d7"
   },
   "outputs": [],
   "source": [
    "# Create a countplot\n",
    "plt.figure(figsize=(10, 6))\n",
    "sns.countplot(x='Cluster', hue='is_ncr', data=merged_pop)\n",
    "\n",
    "# Add labels and a title\n",
    "plt.xlabel('Cluster')\n",
    "plt.ylabel('Number of Customers')\n",
    "plt.title('Number of Customers per Cluster per Place')\n",
    "\n",
    "# Show the plot\n",
    "plt.legend(title='Within NCR?')\n",
    "plt.show()"
   ]
  },
  {
   "cell_type": "code",
   "execution_count": null,
   "id": "b158479e",
   "metadata": {
    "id": "b158479e"
   },
   "outputs": [],
   "source": [
    "avg_pop = merged_pop[['city','city_pop','Cluster']].drop_duplicates()"
   ]
  },
  {
   "cell_type": "code",
   "execution_count": null,
   "id": "52cb07b3",
   "metadata": {
    "id": "52cb07b3"
   },
   "outputs": [],
   "source": [
    "avg_pop.groupby('Cluster').mean()/1000"
   ]
  },
  {
   "cell_type": "code",
   "execution_count": null,
   "id": "ec6c8e25",
   "metadata": {
    "id": "ec6c8e25",
    "scrolled": true
   },
   "outputs": [],
   "source": [
    "# Number of cities within clusters\n",
    "avg_pop.groupby('Cluster').size()"
   ]
  },
  {
   "cell_type": "markdown",
   "id": "a3a9a56a",
   "metadata": {
    "id": "a3a9a56a"
   },
   "source": [
    "### Initial Demographics View\n",
    "- Cluster 0 - Lower population area, Highly diverse cities\n",
    "- Cluster 1 - Lower population area, Not as diverse cities (Concentrated)\n",
    "- Cluster 2 - Highly populated area, Not as diverse cities (Concentrated)"
   ]
  },
  {
   "cell_type": "code",
   "execution_count": null,
   "id": "90f0a12f",
   "metadata": {
    "id": "90f0a12f"
   },
   "outputs": [],
   "source": [
    "count_data = merged_df.groupby(['city', 'Cluster']).size().reset_index(name='Count')\n",
    "count_data = count_data.sort_values(by='Count', ascending=False)"
   ]
  },
  {
   "cell_type": "code",
   "execution_count": null,
   "id": "85cb7e1f",
   "metadata": {
    "id": "85cb7e1f"
   },
   "outputs": [],
   "source": [
    "# count_data[count_data['Cluster']==0]"
   ]
  },
  {
   "cell_type": "code",
   "execution_count": null,
   "id": "fa190c8c",
   "metadata": {
    "id": "fa190c8c"
   },
   "outputs": [],
   "source": [
    "plt.figure(figsize=(10, 6))\n",
    "sns.barplot(x='city', y='Count', data=count_data[count_data['Cluster']==0])\n",
    "\n",
    "# Add labels and a title\n",
    "plt.xlabel('City')\n",
    "plt.ylabel('Number of Customers')\n",
    "plt.title('Number of Customers per City (Cluster 1)')\n",
    "\n",
    "plt.xticks(rotation=90)\n",
    "# Show the plot\n",
    "plt.show()"
   ]
  },
  {
   "cell_type": "code",
   "execution_count": null,
   "id": "27d0edec",
   "metadata": {
    "id": "27d0edec"
   },
   "outputs": [],
   "source": [
    "plt.figure(figsize=(10, 6))\n",
    "sns.barplot(x='city', y='Count', data=count_data[count_data['Cluster']==1])\n",
    "\n",
    "# Add labels and a title\n",
    "plt.xlabel('City')\n",
    "plt.ylabel('Number of Customers')\n",
    "plt.title('Number of Customers per City (Cluster 2)')\n",
    "\n",
    "plt.xticks(rotation=90)\n",
    "# Show the plot\n",
    "plt.show()"
   ]
  },
  {
   "cell_type": "code",
   "execution_count": null,
   "id": "c98ca578",
   "metadata": {
    "id": "c98ca578"
   },
   "outputs": [],
   "source": [
    "plt.figure(figsize=(10, 6))\n",
    "sns.barplot(x='city', y='Count', data=count_data[count_data['Cluster']==2])\n",
    "\n",
    "# Add labels and a title\n",
    "plt.xlabel('City')\n",
    "plt.ylabel('Number of Customers')\n",
    "plt.title('Number of Customers per City (Cluster 3)')\n",
    "\n",
    "plt.xticks(rotation=90)\n",
    "# Show the plot\n",
    "plt.show()"
   ]
  },
  {
   "cell_type": "markdown",
   "id": "19da439b",
   "metadata": {
    "id": "19da439b"
   },
   "source": [
    "## Gender"
   ]
  },
  {
   "cell_type": "code",
   "execution_count": null,
   "id": "d2117895",
   "metadata": {
    "id": "d2117895"
   },
   "outputs": [],
   "source": [
    "merged_gen = merged_df[['acct_num','gender','Cluster']].drop_duplicates()"
   ]
  },
  {
   "cell_type": "code",
   "execution_count": null,
   "id": "1223f93d",
   "metadata": {
    "id": "1223f93d"
   },
   "outputs": [],
   "source": [
    "# Create a countplot\n",
    "plt.figure(figsize=(10, 6))\n",
    "sns.countplot(x='Cluster', hue='gender', data=merged_gen)\n",
    "\n",
    "# Add labels and a title\n",
    "plt.xlabel('Cluster')\n",
    "plt.ylabel('Number of Customers')\n",
    "plt.title('Number of Customers per Cluster per Gender')\n",
    "\n",
    "# Show the plot\n",
    "plt.legend(title='Gender')\n",
    "plt.show()"
   ]
  },
  {
   "cell_type": "code",
   "execution_count": null,
   "id": "57529b16",
   "metadata": {
    "id": "57529b16"
   },
   "outputs": [],
   "source": [
    "merged_gen.groupby(['Cluster','gender']).size()"
   ]
  },
  {
   "cell_type": "markdown",
   "id": "008848a4",
   "metadata": {
    "id": "008848a4"
   },
   "source": [
    "## Job"
   ]
  },
  {
   "cell_type": "code",
   "execution_count": null,
   "id": "3320ee1f",
   "metadata": {
    "id": "3320ee1f"
   },
   "outputs": [],
   "source": [
    "merged_job = merged_df[['acct_num','job','Cluster']].drop_duplicates()"
   ]
  },
  {
   "cell_type": "code",
   "execution_count": null,
   "id": "8571e743",
   "metadata": {
    "id": "8571e743"
   },
   "outputs": [],
   "source": [
    "merged_job[merged_job['Cluster']==0].value_counts('job')"
   ]
  },
  {
   "cell_type": "code",
   "execution_count": null,
   "id": "ba44049a",
   "metadata": {
    "id": "ba44049a"
   },
   "outputs": [],
   "source": [
    "job_0 = merged_job[merged_job['Cluster']==0]['job'].drop_duplicates().to_list()"
   ]
  },
  {
   "cell_type": "code",
   "execution_count": null,
   "id": "27b568f5",
   "metadata": {
    "id": "27b568f5"
   },
   "outputs": [],
   "source": [
    "text_0 = ' '.join(job_0)"
   ]
  },
  {
   "cell_type": "code",
   "execution_count": null,
   "id": "d1b615f1",
   "metadata": {
    "id": "d1b615f1"
   },
   "outputs": [],
   "source": [
    "wordcloud = WordCloud(width=800, height=400, background_color='white').generate(text_0)\n",
    "plt.figure(figsize=(10, 5))\n",
    "plt.imshow(wordcloud, interpolation='bilinear')\n",
    "plt.axis('off')\n",
    "plt.show()"
   ]
  },
  {
   "cell_type": "code",
   "execution_count": null,
   "id": "b2352dc8",
   "metadata": {
    "id": "b2352dc8",
    "scrolled": true
   },
   "outputs": [],
   "source": [
    "merged_job[merged_job['Cluster']==0].value_counts('job')"
   ]
  },
  {
   "cell_type": "markdown",
   "id": "d4db96d1",
   "metadata": {
    "id": "d4db96d1"
   },
   "source": [
    "Active, Loyal, and High Spender Group (First List):\n",
    "- Diverse Professions: This group consists of individuals from various professions, some of which are likely to have higher incomes, such as investment banking and management consulting. Higher income levels can lead to more significant online spending.\n",
    "\n",
    "- High Earnings: Some professions listed, such as investment banking and medical practice, tend to have higher income levels. This could mean that some individuals in this population have the financial means to be high spenders.\n",
    "\n",
    "- Tech-Savvy: Many of the professions in this group may involve technology and internet usage, making them more comfortable with online shopping.\n",
    "\n",
    "- Convenience-Seeking: Professionals with busy careers may prefer the convenience of online shopping, saving them time and effort.\n",
    "\n",
    "- Unique Needs: Some professionals may have unique needs that can be better met through online shopping."
   ]
  },
  {
   "cell_type": "code",
   "execution_count": null,
   "id": "137d5808",
   "metadata": {
    "id": "137d5808"
   },
   "outputs": [],
   "source": [
    "job_1 = merged_job[merged_job['Cluster']==1]['job'].drop_duplicates().to_list()\n",
    "text_1 = ' '.join(job_1)"
   ]
  },
  {
   "cell_type": "code",
   "execution_count": null,
   "id": "51450367",
   "metadata": {
    "id": "51450367"
   },
   "outputs": [],
   "source": [
    "wordcloud = WordCloud(width=800, height=400, background_color='white').generate(text_1)\n",
    "plt.figure(figsize=(10, 5))\n",
    "plt.imshow(wordcloud, interpolation='bilinear')\n",
    "plt.axis('off')\n",
    "plt.show()"
   ]
  },
  {
   "cell_type": "code",
   "execution_count": null,
   "id": "7a0087b0",
   "metadata": {
    "id": "7a0087b0",
    "scrolled": true
   },
   "outputs": [],
   "source": [
    "merged_job[merged_job['Cluster']==1].value_counts('job')"
   ]
  },
  {
   "cell_type": "markdown",
   "id": "aca71a34",
   "metadata": {
    "id": "aca71a34"
   },
   "source": [
    "Low Spender, Low Loyalty, and Inactive Group (Second List):\n",
    "- Job Characteristics: The job titles in this group may not be as closely related to high incomes or technology usage as those in the first list. For example, teachers and librarians may not typically have high disposable incomes.\n",
    "- Limited Tech Engagement: Some professions in this group, like librarians and teachers, may involve less technology usage compared to the first group. This could lead to less familiarity with online shopping platforms.\n",
    "- Less Discretionary Income: It's possible that individuals in this group have less discretionary income available for online shopping after meeting their basic needs and expenses."
   ]
  },
  {
   "cell_type": "code",
   "execution_count": null,
   "id": "81ba12d5",
   "metadata": {
    "id": "81ba12d5"
   },
   "outputs": [],
   "source": [
    "job_2 = merged_job[merged_job['Cluster']==2]['job'].drop_duplicates().to_list()\n",
    "text_2 = ' '.join(job_2)"
   ]
  },
  {
   "cell_type": "code",
   "execution_count": null,
   "id": "2c2e5998",
   "metadata": {
    "id": "2c2e5998"
   },
   "outputs": [],
   "source": [
    "wordcloud = WordCloud(width=800, height=400, background_color='white').generate(text_2)\n",
    "plt.figure(figsize=(10, 5))\n",
    "plt.imshow(wordcloud, interpolation='bilinear')\n",
    "plt.axis('off')\n",
    "plt.show()"
   ]
  },
  {
   "cell_type": "code",
   "execution_count": null,
   "id": "43c5fff2",
   "metadata": {
    "id": "43c5fff2"
   },
   "outputs": [],
   "source": [
    "merged_job[merged_job['Cluster']==2].value_counts('job')"
   ]
  },
  {
   "cell_type": "markdown",
   "id": "39857452",
   "metadata": {
    "id": "39857452"
   },
   "source": [
    "Mid-Spender, Mid-Loyal, More Active\n",
    "- Diverse Professions: Similar to the Cluster 0, this group comprises individuals from various professions, including finance (Accountant), education (Teacher), healthcare (Radiographer, Physicist, Medical), and technology (Programmer, Database Administrator), among others.\n",
    "\n",
    "- Moderate Tech Engagement: While not as tech-centric as Cluster 0, many professions in this list involve moderate technology usage. This can make them more comfortable with online shopping compared to the Cluster 1.\n",
    "\n",
    "- Income Levels: Individuals in this group may have varying income levels, with some professions potentially offering higher incomes (e.g., IT sales professional, Insurance broker) compared to Cluster 1. However,Cluster 0 includes potentially higher income levels and greater tech engagement.\n"
   ]
  },
  {
   "cell_type": "markdown",
   "id": "f29fceb6",
   "metadata": {
    "id": "f29fceb6"
   },
   "source": [
    "## Category"
   ]
  },
  {
   "cell_type": "code",
   "execution_count": null,
   "id": "bdf5b0cc",
   "metadata": {
    "id": "bdf5b0cc"
   },
   "outputs": [],
   "source": [
    "df_net_trans = df_pos_net[df_pos_net['gen_cat']=='Net']\n",
    "merged_df_net_trans = pd.merge(df_net_trans, df_net_agg[['CustomerID','Cluster']], on='acct_num', how='left').drop_duplicates()"
   ]
  },
  {
   "cell_type": "code",
   "execution_count": null,
   "id": "0c93454e",
   "metadata": {
    "id": "0c93454e"
   },
   "outputs": [],
   "source": [
    "merged_cat = merged_df_net_trans.groupby(['acct_num','category','Cluster']).agg({'CustomerID':'nunique'}).reset_index()"
   ]
  },
  {
   "cell_type": "code",
   "execution_count": null,
   "id": "fa42a7ff",
   "metadata": {
    "id": "fa42a7ff"
   },
   "outputs": [],
   "source": [
    "# Create a countplot\n",
    "plt.figure(figsize=(10, 6))\n",
    "sns.countplot(x='Cluster', hue='category', data=merged_cat)\n",
    "\n",
    "# Add labels and a title\n",
    "plt.xlabel('Cluster')\n",
    "plt.ylabel('Number of Customers')\n",
    "plt.title('Number of Customers per Category Purchases')\n",
    "\n",
    "# Show the plot\n",
    "plt.legend(title='Category')\n",
    "plt.show()"
   ]
  },
  {
   "cell_type": "markdown",
   "id": "ec012a66",
   "metadata": {
    "id": "ec012a66"
   },
   "source": [
    "## Age"
   ]
  },
  {
   "cell_type": "code",
   "execution_count": null,
   "id": "3ae13761",
   "metadata": {
    "id": "3ae13761"
   },
   "outputs": [],
   "source": [
    "merged_age = merged_df[['acct_num','age','Cluster']].drop_duplicates()"
   ]
  },
  {
   "cell_type": "code",
   "execution_count": null,
   "id": "6b53d469",
   "metadata": {
    "id": "6b53d469"
   },
   "outputs": [],
   "source": [
    "# Create a countplot\n",
    "plt.figure(figsize=(10, 6))\n",
    "sns.histplot(x='age', data=merged_age[merged_age['Cluster']==0], kde=True)\n",
    "\n",
    "# Add labels and a title\n",
    "plt.xlabel('Cluster')\n",
    "plt.ylabel('Number of Customers')\n",
    "plt.title('Number of Customers per Cluster per Age')\n",
    "plt.xlim(50,100)\n",
    "plt.ylim(0,10)\n",
    "\n",
    "# Show the plot\n",
    "plt.show()"
   ]
  },
  {
   "cell_type": "code",
   "execution_count": null,
   "id": "f5739bc8",
   "metadata": {
    "id": "f5739bc8"
   },
   "outputs": [],
   "source": [
    "merged_age[merged_age['Cluster']==0]['age'].mean()"
   ]
  },
  {
   "cell_type": "code",
   "execution_count": null,
   "id": "d396312d",
   "metadata": {
    "id": "d396312d"
   },
   "outputs": [],
   "source": [
    "merged_age[merged_age['Cluster']==0]['age'].min()"
   ]
  },
  {
   "cell_type": "code",
   "execution_count": null,
   "id": "757858ac",
   "metadata": {
    "id": "757858ac"
   },
   "outputs": [],
   "source": [
    "merged_age[merged_age['Cluster']==0]['age'].max()"
   ]
  },
  {
   "cell_type": "code",
   "execution_count": null,
   "id": "7c075b43",
   "metadata": {
    "id": "7c075b43"
   },
   "outputs": [],
   "source": [
    "# Create a countplot\n",
    "plt.figure(figsize=(10, 6))\n",
    "sns.histplot(x='age', data=merged_age[merged_age['Cluster']==1], kde=True)\n",
    "\n",
    "# Add labels and a title\n",
    "plt.xlabel('Cluster')\n",
    "plt.ylabel('Number of Customers')\n",
    "plt.title('Number of Customers per Cluster per Age')\n",
    "plt.xlim(50,100)\n",
    "plt.ylim(0,10)\n",
    "\n",
    "# Show the plot\n",
    "plt.show()"
   ]
  },
  {
   "cell_type": "code",
   "execution_count": null,
   "id": "e99a76fc",
   "metadata": {
    "id": "e99a76fc"
   },
   "outputs": [],
   "source": [
    "merged_age[merged_age['Cluster']==1]['age'].mean()"
   ]
  },
  {
   "cell_type": "code",
   "execution_count": null,
   "id": "9252ceea",
   "metadata": {
    "id": "9252ceea"
   },
   "outputs": [],
   "source": [
    "merged_age[merged_age['Cluster']==1]['age'].min()"
   ]
  },
  {
   "cell_type": "code",
   "execution_count": null,
   "id": "7453f5c7",
   "metadata": {
    "id": "7453f5c7"
   },
   "outputs": [],
   "source": [
    "merged_age[merged_age['Cluster']==1]['age'].max()"
   ]
  },
  {
   "cell_type": "code",
   "execution_count": null,
   "id": "884c437c",
   "metadata": {
    "id": "884c437c"
   },
   "outputs": [],
   "source": [
    "# Create a countplot\n",
    "plt.figure(figsize=(10, 6))\n",
    "sns.histplot(x='age', data=merged_age[merged_age['Cluster']==2], kde=True)\n",
    "\n",
    "# Add labels and a title\n",
    "plt.xlabel('Cluster')\n",
    "plt.ylabel('Number of Customers')\n",
    "plt.title('Number of Customers per Cluster per Age')\n",
    "plt.xlim(50,100)\n",
    "plt.ylim(0,10)\n",
    "\n",
    "# Show the plot\n",
    "plt.show()"
   ]
  },
  {
   "cell_type": "code",
   "execution_count": null,
   "id": "4efbdaf3",
   "metadata": {
    "id": "4efbdaf3"
   },
   "outputs": [],
   "source": [
    "merged_age[merged_age['Cluster']==2]['age'].mean()"
   ]
  },
  {
   "cell_type": "code",
   "execution_count": null,
   "id": "bd95eccd",
   "metadata": {
    "id": "bd95eccd"
   },
   "outputs": [],
   "source": [
    "merged_age[merged_age['Cluster']==2]['age'].min()"
   ]
  },
  {
   "cell_type": "code",
   "execution_count": null,
   "id": "fd6431f8",
   "metadata": {
    "id": "fd6431f8"
   },
   "outputs": [],
   "source": [
    "merged_age[merged_age['Cluster']==2]['age'].max()"
   ]
  },
  {
   "cell_type": "code",
   "execution_count": null,
   "id": "c2416426",
   "metadata": {
    "id": "c2416426"
   },
   "outputs": [],
   "source": []
  }
 ],
 "metadata": {
  "colab": {
   "provenance": []
  },
  "kernelspec": {
   "display_name": "Python 3 (ipykernel)",
   "language": "python",
   "name": "python3"
  },
  "language_info": {
   "codemirror_mode": {
    "name": "ipython",
    "version": 3
   },
   "file_extension": ".py",
   "mimetype": "text/x-python",
   "name": "python",
   "nbconvert_exporter": "python",
   "pygments_lexer": "ipython3",
   "version": "3.11.5"
  }
 },
 "nbformat": 4,
 "nbformat_minor": 5
}
